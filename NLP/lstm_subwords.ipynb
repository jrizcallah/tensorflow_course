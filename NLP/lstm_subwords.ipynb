{
 "cells": [
  {
   "cell_type": "markdown",
   "metadata": {},
   "source": [
    "# This notebook goes with Lesson 10, Section 5 of the Tensorflow 2.0 course on Udacity. It uses LSTM neural networks for NLP."
   ]
  },
  {
   "cell_type": "code",
   "execution_count": 2,
   "metadata": {},
   "outputs": [],
   "source": [
    "import tensorflow as tf\n",
    "from tensorflow.keras.preprocessing.sequence import pad_sequences"
   ]
  },
  {
   "cell_type": "code",
   "execution_count": 16,
   "metadata": {},
   "outputs": [
    {
     "name": "stdout",
     "output_type": "stream",
     "text": [
      "--2020-12-09 16:55:43--  https://drive.google.com/uc?id=13ySLC_ue6Umt9RJYSeM2t-V0kCv-4C-P\n",
      "Resolving drive.google.com (drive.google.com)... 172.217.6.78, 2607:f8b0:4005:80a::200e\n",
      "Connecting to drive.google.com (drive.google.com)|172.217.6.78|:443... connected.\n",
      "HTTP request sent, awaiting response... 302 Moved Temporarily\n",
      "Location: https://doc-08-ak-docs.googleusercontent.com/docs/securesc/ha0ro937gcuc7l7deffksulhg5h7mbp1/2r3ok9qgmj1nhaelokmq85eq8v2bvcop/1607532900000/11118900490791463723/*/13ySLC_ue6Umt9RJYSeM2t-V0kCv-4C-P [following]\n",
      "Warning: wildcards not supported in HTTP.\n",
      "--2020-12-09 16:55:43--  https://doc-08-ak-docs.googleusercontent.com/docs/securesc/ha0ro937gcuc7l7deffksulhg5h7mbp1/2r3ok9qgmj1nhaelokmq85eq8v2bvcop/1607532900000/11118900490791463723/*/13ySLC_ue6Umt9RJYSeM2t-V0kCv-4C-P\n",
      "Resolving doc-08-ak-docs.googleusercontent.com (doc-08-ak-docs.googleusercontent.com)... 172.217.6.65, 2607:f8b0:4005:80a::2001\n",
      "Connecting to doc-08-ak-docs.googleusercontent.com (doc-08-ak-docs.googleusercontent.com)|172.217.6.65|:443... connected.\n",
      "HTTP request sent, awaiting response... 200 OK\n",
      "Length: 127831 (125K) [text/csv]\n",
      "Saving to: ‘/tmp/sentiment.csv’\n",
      "\n",
      "/tmp/sentiment.csv  100%[===================>] 124.83K  --.-KB/s    in 0.04s   \n",
      "\n",
      "2020-12-09 16:55:44 (3.04 MB/s) - ‘/tmp/sentiment.csv’ saved [127831/127831]\n",
      "\n"
     ]
    }
   ],
   "source": [
    "!wget --no-check-certificate \\\n",
    "    https://drive.google.com/uc?id=13ySLC_ue6Umt9RJYSeM2t-V0kCv-4C-P -O /tmp/sentiment.csv"
   ]
  },
  {
   "cell_type": "code",
   "execution_count": 17,
   "metadata": {},
   "outputs": [],
   "source": [
    "import pandas as pd\n",
    "dataset = pd.read_csv('/tmp/sentiment.csv')\n",
    "\n",
    "sentences = dataset['text'].tolist()\n",
    "labels = dataset['sentiment'].tolist()"
   ]
  },
  {
   "cell_type": "code",
   "execution_count": 18,
   "metadata": {},
   "outputs": [
    {
     "name": "stdout",
     "output_type": "stream",
     "text": [
      "So there is no way for me to plug it in here in the US unless I go by a converter.\n",
      "0\n",
      "\n",
      "\n",
      "Good case Excellent value.\n",
      "1\n",
      "\n",
      "\n"
     ]
    }
   ],
   "source": [
    "for x in range(2):\n",
    "    print(sentences[x])\n",
    "    print(labels[x])\n",
    "    print('\\n')"
   ]
  },
  {
   "cell_type": "code",
   "execution_count": 19,
   "metadata": {},
   "outputs": [
    {
     "name": "stdout",
     "output_type": "stream",
     "text": [
      "Vocab size is  999\n"
     ]
    }
   ],
   "source": [
    "import tensorflow_datasets as tfds\n",
    "\n",
    "vocab_size = 1000\n",
    "tokenizer = tfds.deprecated.text.SubwordTextEncoder.build_from_corpus(sentences, vocab_size, \n",
    "                                                                     max_subword_length=5)\n",
    "print(\"Vocab size is \", tokenizer.vocab_size)"
   ]
  },
  {
   "cell_type": "code",
   "execution_count": 20,
   "metadata": {},
   "outputs": [
    {
     "name": "stdout",
     "output_type": "stream",
     "text": [
      "I have to jiggle the plug to get it to line up right to get decent volume.\n",
      "[4, 31, 6, 849, 162, 450, 12, 1, 600, 438, 775, 6, 175, 14, 6, 55, 213, 159, 474, 775, 6, 175, 614, 380, 295, 148, 72, 789]\n"
     ]
    }
   ],
   "source": [
    "num = 5\n",
    "print(sentences[num])\n",
    "encoded = tokenizer.encode(sentences[num])\n",
    "print(encoded)"
   ]
  },
  {
   "cell_type": "code",
   "execution_count": 21,
   "metadata": {},
   "outputs": [
    {
     "name": "stdout",
     "output_type": "stream",
     "text": [
      "I \n",
      "have \n",
      "to \n",
      "j\n",
      "ig\n",
      "gl\n",
      "e \n",
      "the \n",
      "pl\n",
      "ug\n",
      " \n",
      "to \n",
      "get \n",
      "it \n",
      "to \n",
      "li\n",
      "ne \n",
      "up \n",
      "right\n",
      " \n",
      "to \n",
      "get \n",
      "dec\n",
      "ent \n",
      "vo\n",
      "lu\n",
      "me\n",
      ".\n"
     ]
    }
   ],
   "source": [
    "for i in encoded:\n",
    "    print(tokenizer.decode([i]))"
   ]
  },
  {
   "cell_type": "markdown",
   "metadata": {},
   "source": [
    "## Replace sentences with encoded subwords"
   ]
  },
  {
   "cell_type": "code",
   "execution_count": 22,
   "metadata": {},
   "outputs": [],
   "source": [
    "for i, sentence in enumerate(sentences):\n",
    "    sentences[i] = tokenizer.encode(sentence)\n"
   ]
  },
  {
   "cell_type": "code",
   "execution_count": 23,
   "metadata": {},
   "outputs": [
    {
     "name": "stdout",
     "output_type": "stream",
     "text": [
      "[4, 31, 6, 849, 162, 450, 12, 1, 600, 438, 775, 6, 175, 14, 6, 55, 213, 159, 474, 775, 6, 175, 614, 380, 295, 148, 72, 789]\n"
     ]
    }
   ],
   "source": [
    "print(sentences[5])"
   ]
  },
  {
   "cell_type": "markdown",
   "metadata": {},
   "source": [
    "## Final Preprocessing"
   ]
  },
  {
   "cell_type": "code",
   "execution_count": 24,
   "metadata": {},
   "outputs": [],
   "source": [
    "import numpy as np\n",
    "\n",
    "max_length = 50\n",
    "trunc_type = 'post'\n",
    "padding_type = 'post'\n",
    "\n",
    "sequences_padded = pad_sequences(sentences,\n",
    "                                maxlen=max_length,\n",
    "                                padding=padding_type,\n",
    "                                truncating=trunc_type)\n",
    "\n",
    "training_size = int(len(sentences)*0.8)\n",
    "\n",
    "training_sequences = sequences_padded[0:training_size]\n",
    "training_labels = labels[0:training_size]\n",
    "\n",
    "testing_sequences = sequences_padded[training_size:]\n",
    "testing_labels = labels[training_size:]\n",
    "\n",
    "training_labels_final = np.array(training_labels)\n",
    "testing_labels_final = np.array(testing_labels)"
   ]
  },
  {
   "cell_type": "markdown",
   "metadata": {},
   "source": [
    "## Create the model using an Embedding"
   ]
  },
  {
   "cell_type": "code",
   "execution_count": 25,
   "metadata": {},
   "outputs": [
    {
     "name": "stdout",
     "output_type": "stream",
     "text": [
      "Model: \"sequential\"\n",
      "_________________________________________________________________\n",
      "Layer (type)                 Output Shape              Param #   \n",
      "=================================================================\n",
      "embedding (Embedding)        (None, 50, 16)            16000     \n",
      "_________________________________________________________________\n",
      "global_average_pooling1d (Gl (None, 16)                0         \n",
      "_________________________________________________________________\n",
      "dense (Dense)                (None, 6)                 102       \n",
      "_________________________________________________________________\n",
      "dense_1 (Dense)              (None, 1)                 7         \n",
      "=================================================================\n",
      "Total params: 16,109\n",
      "Trainable params: 16,109\n",
      "Non-trainable params: 0\n",
      "_________________________________________________________________\n"
     ]
    }
   ],
   "source": [
    "embedding_dim = 16\n",
    "\n",
    "model = tf.keras.Sequential([\n",
    "    tf.keras.layers.Embedding(vocab_size,\n",
    "                             embedding_dim,\n",
    "                             input_length=max_length),\n",
    "    tf.keras.layers.GlobalAveragePooling1D(),\n",
    "    tf.keras.layers.Dense(6, activation='relu'),\n",
    "    tf.keras.layers.Dense(1, activation='sigmoid')\n",
    "])\n",
    "\n",
    "model.summary()"
   ]
  },
  {
   "cell_type": "code",
   "execution_count": 26,
   "metadata": {},
   "outputs": [
    {
     "name": "stdout",
     "output_type": "stream",
     "text": [
      "Epoch 1/30\n",
      "50/50 [==============================] - 0s 5ms/step - loss: 0.6915 - accuracy: 0.5248 - val_loss: 0.6968 - val_accuracy: 0.4160\n",
      "Epoch 2/30\n",
      "50/50 [==============================] - 0s 2ms/step - loss: 0.6880 - accuracy: 0.5361 - val_loss: 0.6969 - val_accuracy: 0.4386\n",
      "Epoch 3/30\n",
      "50/50 [==============================] - 0s 2ms/step - loss: 0.6815 - accuracy: 0.5700 - val_loss: 0.6929 - val_accuracy: 0.4812\n",
      "Epoch 4/30\n",
      "50/50 [==============================] - 0s 2ms/step - loss: 0.6713 - accuracy: 0.5876 - val_loss: 0.6858 - val_accuracy: 0.5138\n",
      "Epoch 5/30\n",
      "50/50 [==============================] - 0s 2ms/step - loss: 0.6543 - accuracy: 0.6535 - val_loss: 0.6683 - val_accuracy: 0.5689\n",
      "Epoch 6/30\n",
      "50/50 [==============================] - 0s 2ms/step - loss: 0.6306 - accuracy: 0.7112 - val_loss: 0.6419 - val_accuracy: 0.6992\n",
      "Epoch 7/30\n",
      "50/50 [==============================] - 0s 2ms/step - loss: 0.5992 - accuracy: 0.7652 - val_loss: 0.6231 - val_accuracy: 0.7018\n",
      "Epoch 8/30\n",
      "50/50 [==============================] - 0s 2ms/step - loss: 0.5635 - accuracy: 0.8023 - val_loss: 0.6037 - val_accuracy: 0.6917\n",
      "Epoch 9/30\n",
      "50/50 [==============================] - 0s 2ms/step - loss: 0.5242 - accuracy: 0.8123 - val_loss: 0.5753 - val_accuracy: 0.7419\n",
      "Epoch 10/30\n",
      "50/50 [==============================] - 0s 2ms/step - loss: 0.4849 - accuracy: 0.8380 - val_loss: 0.5523 - val_accuracy: 0.7519\n",
      "Epoch 11/30\n",
      "50/50 [==============================] - 0s 2ms/step - loss: 0.4495 - accuracy: 0.8506 - val_loss: 0.5290 - val_accuracy: 0.7694\n",
      "Epoch 12/30\n",
      "50/50 [==============================] - 0s 2ms/step - loss: 0.4165 - accuracy: 0.8632 - val_loss: 0.5159 - val_accuracy: 0.7669\n",
      "Epoch 13/30\n",
      "50/50 [==============================] - 0s 2ms/step - loss: 0.3878 - accuracy: 0.8719 - val_loss: 0.5231 - val_accuracy: 0.7469\n",
      "Epoch 14/30\n",
      "50/50 [==============================] - 0s 2ms/step - loss: 0.3622 - accuracy: 0.8776 - val_loss: 0.5067 - val_accuracy: 0.7519\n",
      "Epoch 15/30\n",
      "50/50 [==============================] - 0s 2ms/step - loss: 0.3398 - accuracy: 0.8851 - val_loss: 0.5076 - val_accuracy: 0.7494\n",
      "Epoch 16/30\n",
      "50/50 [==============================] - 0s 2ms/step - loss: 0.3195 - accuracy: 0.8870 - val_loss: 0.5092 - val_accuracy: 0.7544\n",
      "Epoch 17/30\n",
      "50/50 [==============================] - 0s 2ms/step - loss: 0.3026 - accuracy: 0.8945 - val_loss: 0.5155 - val_accuracy: 0.7494\n",
      "Epoch 18/30\n",
      "50/50 [==============================] - 0s 2ms/step - loss: 0.2870 - accuracy: 0.8964 - val_loss: 0.5172 - val_accuracy: 0.7494\n",
      "Epoch 19/30\n",
      "50/50 [==============================] - 0s 2ms/step - loss: 0.2735 - accuracy: 0.9046 - val_loss: 0.5107 - val_accuracy: 0.7519\n",
      "Epoch 20/30\n",
      "50/50 [==============================] - 0s 2ms/step - loss: 0.2603 - accuracy: 0.9096 - val_loss: 0.5085 - val_accuracy: 0.7569\n",
      "Epoch 21/30\n",
      "50/50 [==============================] - 0s 2ms/step - loss: 0.2488 - accuracy: 0.9102 - val_loss: 0.5140 - val_accuracy: 0.7544\n",
      "Epoch 22/30\n",
      "50/50 [==============================] - 0s 2ms/step - loss: 0.2379 - accuracy: 0.9196 - val_loss: 0.5299 - val_accuracy: 0.7519\n",
      "Epoch 23/30\n",
      "50/50 [==============================] - 0s 2ms/step - loss: 0.2288 - accuracy: 0.9184 - val_loss: 0.5367 - val_accuracy: 0.7519\n",
      "Epoch 24/30\n",
      "50/50 [==============================] - 0s 2ms/step - loss: 0.2207 - accuracy: 0.9259 - val_loss: 0.5458 - val_accuracy: 0.7519\n",
      "Epoch 25/30\n",
      "50/50 [==============================] - 0s 2ms/step - loss: 0.2108 - accuracy: 0.9253 - val_loss: 0.5402 - val_accuracy: 0.7494\n",
      "Epoch 26/30\n",
      "50/50 [==============================] - 0s 2ms/step - loss: 0.2023 - accuracy: 0.9335 - val_loss: 0.5377 - val_accuracy: 0.7569\n",
      "Epoch 27/30\n",
      "50/50 [==============================] - 0s 2ms/step - loss: 0.1966 - accuracy: 0.9397 - val_loss: 0.5592 - val_accuracy: 0.7469\n",
      "Epoch 28/30\n",
      "50/50 [==============================] - 0s 2ms/step - loss: 0.1903 - accuracy: 0.9366 - val_loss: 0.5676 - val_accuracy: 0.7469\n",
      "Epoch 29/30\n",
      "50/50 [==============================] - 0s 2ms/step - loss: 0.1827 - accuracy: 0.9454 - val_loss: 0.5842 - val_accuracy: 0.7469\n",
      "Epoch 30/30\n",
      "50/50 [==============================] - 0s 2ms/step - loss: 0.1757 - accuracy: 0.9460 - val_loss: 0.5858 - val_accuracy: 0.7544\n"
     ]
    }
   ],
   "source": [
    "num_epochs = 30\n",
    "\n",
    "model.compile(optimizer='adam',\n",
    "             loss=tf.keras.losses.BinaryCrossentropy(),\n",
    "             metrics=['accuracy'])\n",
    "\n",
    "history = model.fit(training_sequences, training_labels_final, epochs=num_epochs,\n",
    "                   validation_data = (testing_sequences, testing_labels_final))"
   ]
  },
  {
   "cell_type": "markdown",
   "metadata": {},
   "source": [
    "## Plot accuracy and loss"
   ]
  },
  {
   "cell_type": "code",
   "execution_count": 29,
   "metadata": {},
   "outputs": [
    {
     "data": {
      "image/png": "[encoded data removed]",
      "text/plain": [
       "<Figure size 432x288 with 1 Axes>"
      ]
     },
     "metadata": {
      "needs_background": "light"
     },
     "output_type": "display_data"
    },
    {
     "data": {
      "image/png": "[encoded data removed]",
      "text/plain": [
       "<Figure size 432x288 with 1 Axes>"
      ]
     },
     "metadata": {
      "needs_background": "light"
     },
     "output_type": "display_data"
    }
   ],
   "source": [
    "import matplotlib.pyplot as plt\n",
    "\n",
    "def plot_graphs(history, string):\n",
    "    plt.plot(history.history[string])\n",
    "    plt.plot(history.history['val_'+string])\n",
    "    plt.xlabel('Epochs')\n",
    "    plt.ylabel(string)\n",
    "    plt.legend([string, 'val_'+string])\n",
    "    plt.show()\n",
    "\n",
    "plot_graphs(history, 'accuracy') \n",
    "plot_graphs(history, 'loss')"
   ]
  },
  {
   "cell_type": "markdown",
   "metadata": {},
   "source": [
    "## Define prediction function"
   ]
  },
  {
   "cell_type": "code",
   "execution_count": 30,
   "metadata": {},
   "outputs": [],
   "source": [
    "def predict_review(model, new_sentences, maxlen=max_length, show_padded_sequence=True):\n",
    "    new_sequences = []\n",
    "    for i, frvw in enumerate(new_sentences):\n",
    "        new_sequences.append(tokenizer.encode(frvw))\n",
    "    \n",
    "    trun_type='post'\n",
    "    padding_type='post'\n",
    "    \n",
    "    new_reviews_padded = pad_sequences(new_sequences, maxlen=maxlen,\n",
    "                                      padding=padding_type, truncating=trunc_type)\n",
    "    classes=model.predict(new_reviews_padded)\n",
    "    \n",
    "    for x in range(len(new_sentences)):\n",
    "        if (show_padded_sequence):\n",
    "            print(new_reviews_padded[x])\n",
    "        print(new_sentences[x])\n",
    "        print(classes[x])\n",
    "        print('\\n')"
   ]
  },
  {
   "cell_type": "code",
   "execution_count": 32,
   "metadata": {},
   "outputs": [
    {
     "name": "stdout",
     "output_type": "stream",
     "text": [
      "[  4 281  16  25   0   0   0   0   0   0   0   0   0   0   0   0   0   0\n",
      "   0   0   0   0   0   0   0   0   0   0   0   0   0   0   0   0   0   0\n",
      "   0   0   0   0   0   0   0   0   0   0   0   0   0   0]\n",
      "I love this phone\n",
      "[0.9122219]\n",
      "\n",
      "\n",
      "[812 227 864 100 775   9 525 843   0   0   0   0   0   0   0   0   0   0\n",
      "   0   0   0   0   0   0   0   0   0   0   0   0   0   0   0   0   0   0\n",
      "   0   0   0   0   0   0   0   0   0   0   0   0   0   0]\n",
      "Everything was cold\n",
      "[0.11138538]\n",
      "\n",
      "\n",
      "[812 227 864 100 775   9 109   8 333 731  24  61   4 171  59  77   0   0\n",
      "   0   0   0   0   0   0   0   0   0   0   0   0   0   0   0   0   0   0\n",
      "   0   0   0   0   0   0   0   0   0   0   0   0   0   0]\n",
      "Everything was hot exactly as I wanted\n",
      "[0.31955737]\n",
      "\n",
      "\n",
      "[812 227 864 100 775   9 157 359 853   0   0   0   0   0   0   0   0   0\n",
      "   0   0   0   0   0   0   0   0   0   0   0   0   0   0   0   0   0   0\n",
      "   0   0   0   0   0   0   0   0   0   0   0   0   0   0]\n",
      "Everything was green\n",
      "[0.09683877]\n",
      "\n",
      "\n",
      "[  1 109 228 540 237 635 241 423 340  89 298   0   0   0   0   0   0   0\n",
      "   0   0   0   0   0   0   0   0   0   0   0   0   0   0   0   0   0   0\n",
      "   0   0   0   0   0   0   0   0   0   0   0   0   0   0]\n",
      "the host seated us immediately\n",
      "[0.50119275]\n",
      "\n",
      "\n",
      "[154 242  47 635 341  12 569 547 147 319 775 125  85   0   0   0   0   0\n",
      "   0   0   0   0   0   0   0   0   0   0   0   0   0   0   0   0   0   0\n",
      "   0   0   0   0   0   0   0   0   0   0   0   0   0   0]\n",
      "they gave us free chocolate cake\n",
      "[0.7619037]\n",
      "\n",
      "\n",
      "[158 190 853 782   8 607 775 210 232 146 775 470  67 305 101  15   1 328\n",
      " 296  26  19   1 661 641 195   0   0   0   0   0   0   0   0   0   0   0\n",
      "   0   0   0   0   0   0   0   0   0   0   0   0   0   0]\n",
      "we couldn't hear each other talk because of the shouting in the kitchen\n",
      "[0.02115592]\n",
      "\n",
      "\n"
     ]
    }
   ],
   "source": [
    "fake_reviews = [\"I love this phone\", \n",
    "                \"Everything was cold\",\n",
    "                \"Everything was hot exactly as I wanted\", \n",
    "                \"Everything was green\", \n",
    "                \"the host seated us immediately\",\n",
    "                \"they gave us free chocolate cake\", \n",
    "                \"we couldn't hear each other talk because of the shouting in the kitchen\"\n",
    "              ]\n",
    "\n",
    "predict_review(model, fake_reviews)"
   ]
  },
  {
   "cell_type": "markdown",
   "metadata": {},
   "source": [
    "## Streamline the process by defining functions!"
   ]
  },
  {
   "cell_type": "code",
   "execution_count": 38,
   "metadata": {},
   "outputs": [],
   "source": [
    "def fit_model_now(model, sentences):\n",
    "    model.compile(optimizer = 'adam',\n",
    "                 loss = tf.keras.losses.BinaryCrossentropy(),\n",
    "                 metrics=['accuracy'])\n",
    "    model.summary()\n",
    "    history = model.fit(training_sequences, training_labels_final, epochs=num_epochs,\n",
    "                       validation_data=(testing_sequences, testing_labels_final))\n",
    "    return history\n",
    "\n",
    "def plot_results(history):\n",
    "    plot_graphs(history, 'accuracy')\n",
    "    plot_graphs(history, 'loss')\n",
    "    \n",
    "def fit_model_and_show_results(model, sentences):\n",
    "    history = fit_model_now(model, sentences)\n",
    "    plot_results(history)\n",
    "    predict_review(model, sentences)"
   ]
  },
  {
   "cell_type": "markdown",
   "metadata": {},
   "source": [
    "## Add Bidirectional LSTM"
   ]
  },
  {
   "cell_type": "code",
   "execution_count": 39,
   "metadata": {},
   "outputs": [
    {
     "name": "stdout",
     "output_type": "stream",
     "text": [
      "Model: \"sequential_4\"\n",
      "_________________________________________________________________\n",
      "Layer (type)                 Output Shape              Param #   \n",
      "=================================================================\n",
      "embedding_4 (Embedding)      (None, 50, 16)            16000     \n",
      "_________________________________________________________________\n",
      "bidirectional_3 (Bidirection (None, 32)                4224      \n",
      "_________________________________________________________________\n",
      "dense_8 (Dense)              (None, 6)                 198       \n",
      "_________________________________________________________________\n",
      "dense_9 (Dense)              (None, 1)                 7         \n",
      "=================================================================\n",
      "Total params: 20,429\n",
      "Trainable params: 20,429\n",
      "Non-trainable params: 0\n",
      "_________________________________________________________________\n",
      "Epoch 1/30\n",
      "50/50 [==============================] - 2s 40ms/step - loss: 0.6910 - accuracy: 0.5217 - val_loss: 0.6989 - val_accuracy: 0.4110\n",
      "Epoch 2/30\n",
      "50/50 [==============================] - 1s 24ms/step - loss: 0.6662 - accuracy: 0.5744 - val_loss: 0.6514 - val_accuracy: 0.6892\n",
      "Epoch 3/30\n",
      "50/50 [==============================] - 1s 24ms/step - loss: 0.5152 - accuracy: 0.7834 - val_loss: 0.5570 - val_accuracy: 0.7168\n",
      "Epoch 4/30\n",
      "50/50 [==============================] - 1s 25ms/step - loss: 0.3611 - accuracy: 0.8638 - val_loss: 0.5456 - val_accuracy: 0.7569\n",
      "Epoch 5/30\n",
      "50/50 [==============================] - 1s 24ms/step - loss: 0.2757 - accuracy: 0.8964 - val_loss: 0.4994 - val_accuracy: 0.7719\n",
      "Epoch 6/30\n",
      "50/50 [==============================] - 1s 24ms/step - loss: 0.2387 - accuracy: 0.9121 - val_loss: 0.5374 - val_accuracy: 0.7744\n",
      "Epoch 7/30\n",
      "50/50 [==============================] - 1s 24ms/step - loss: 0.1931 - accuracy: 0.9366 - val_loss: 0.6784 - val_accuracy: 0.7619\n",
      "Epoch 8/30\n",
      "50/50 [==============================] - 1s 26ms/step - loss: 0.1477 - accuracy: 0.9554 - val_loss: 0.8294 - val_accuracy: 0.7343\n",
      "Epoch 9/30\n",
      "50/50 [==============================] - 1s 24ms/step - loss: 0.1311 - accuracy: 0.9605 - val_loss: 0.8270 - val_accuracy: 0.7444\n",
      "Epoch 10/30\n",
      "50/50 [==============================] - 1s 24ms/step - loss: 0.1045 - accuracy: 0.9755 - val_loss: 0.8328 - val_accuracy: 0.7419\n",
      "Epoch 11/30\n",
      "50/50 [==============================] - 1s 24ms/step - loss: 0.0900 - accuracy: 0.9799 - val_loss: 0.7808 - val_accuracy: 0.7594\n",
      "Epoch 12/30\n",
      "50/50 [==============================] - 1s 24ms/step - loss: 0.1298 - accuracy: 0.9630 - val_loss: 0.9529 - val_accuracy: 0.7343\n",
      "Epoch 13/30\n",
      "50/50 [==============================] - 1s 26ms/step - loss: 0.0847 - accuracy: 0.9793 - val_loss: 0.9694 - val_accuracy: 0.7444\n",
      "Epoch 14/30\n",
      "50/50 [==============================] - 1s 24ms/step - loss: 0.0609 - accuracy: 0.9887 - val_loss: 0.9829 - val_accuracy: 0.7494\n",
      "Epoch 15/30\n",
      "50/50 [==============================] - 1s 24ms/step - loss: 0.0476 - accuracy: 0.9931 - val_loss: 1.0169 - val_accuracy: 0.7644\n",
      "Epoch 16/30\n",
      "50/50 [==============================] - 1s 23ms/step - loss: 0.0434 - accuracy: 0.9925 - val_loss: 1.1452 - val_accuracy: 0.7469\n",
      "Epoch 17/30\n",
      "50/50 [==============================] - 1s 25ms/step - loss: 0.0590 - accuracy: 0.9862 - val_loss: 1.0295 - val_accuracy: 0.7544\n",
      "Epoch 18/30\n",
      "50/50 [==============================] - 1s 25ms/step - loss: 0.0458 - accuracy: 0.9912 - val_loss: 1.0712 - val_accuracy: 0.7594\n",
      "Epoch 19/30\n",
      "50/50 [==============================] - 1s 24ms/step - loss: 0.0366 - accuracy: 0.9944 - val_loss: 1.1201 - val_accuracy: 0.7519\n",
      "Epoch 20/30\n",
      "50/50 [==============================] - 1s 24ms/step - loss: 0.0328 - accuracy: 0.9950 - val_loss: 1.1415 - val_accuracy: 0.7519\n",
      "Epoch 21/30\n",
      "50/50 [==============================] - 1s 25ms/step - loss: 0.0311 - accuracy: 0.9956 - val_loss: 1.1622 - val_accuracy: 0.7519\n",
      "Epoch 22/30\n",
      "50/50 [==============================] - 1s 25ms/step - loss: 0.0296 - accuracy: 0.9956 - val_loss: 1.1264 - val_accuracy: 0.7594\n",
      "Epoch 23/30\n",
      "50/50 [==============================] - 1s 23ms/step - loss: 0.0284 - accuracy: 0.9956 - val_loss: 1.2364 - val_accuracy: 0.7519\n",
      "Epoch 24/30\n",
      "50/50 [==============================] - 1s 24ms/step - loss: 0.0265 - accuracy: 0.9956 - val_loss: 1.2362 - val_accuracy: 0.7519\n",
      "Epoch 25/30\n",
      "50/50 [==============================] - 1s 24ms/step - loss: 0.0251 - accuracy: 0.9962 - val_loss: 1.2445 - val_accuracy: 0.7519\n",
      "Epoch 26/30\n",
      "50/50 [==============================] - 1s 23ms/step - loss: 0.0248 - accuracy: 0.9962 - val_loss: 1.2795 - val_accuracy: 0.7569\n",
      "Epoch 27/30\n",
      "50/50 [==============================] - 1s 25ms/step - loss: 0.0235 - accuracy: 0.9962 - val_loss: 1.2994 - val_accuracy: 0.7544\n",
      "Epoch 28/30\n",
      "50/50 [==============================] - 1s 25ms/step - loss: 0.0227 - accuracy: 0.9962 - val_loss: 1.2800 - val_accuracy: 0.7519\n",
      "Epoch 29/30\n",
      "50/50 [==============================] - 1s 24ms/step - loss: 0.0215 - accuracy: 0.9962 - val_loss: 1.3341 - val_accuracy: 0.7469\n",
      "Epoch 30/30\n",
      "50/50 [==============================] - 1s 24ms/step - loss: 0.0284 - accuracy: 0.9931 - val_loss: 1.6839 - val_accuracy: 0.7318\n"
     ]
    },
    {
     "data": {
      "image/png": "[encoded data removed]",
      "text/plain": [
       "<Figure size 432x288 with 1 Axes>"
      ]
     },
     "metadata": {
      "needs_background": "light"
     },
     "output_type": "display_data"
    },
    {
     "data": {
      "image/png": "[encoded data removed]",
      "text/plain": [
       "<Figure size 432x288 with 1 Axes>"
      ]
     },
     "metadata": {
      "needs_background": "light"
     },
     "output_type": "display_data"
    },
    {
     "name": "stdout",
     "output_type": "stream",
     "text": [
      "[  4 281  16  25   0   0   0   0   0   0   0   0   0   0   0   0   0   0\n",
      "   0   0   0   0   0   0   0   0   0   0   0   0   0   0   0   0   0   0\n",
      "   0   0   0   0   0   0   0   0   0   0   0   0   0   0]\n",
      "I love this phone\n",
      "[0.9977865]\n",
      "\n",
      "\n",
      "[812 227 864 100 775   9 525 843   0   0   0   0   0   0   0   0   0   0\n",
      "   0   0   0   0   0   0   0   0   0   0   0   0   0   0   0   0   0   0\n",
      "   0   0   0   0   0   0   0   0   0   0   0   0   0   0]\n",
      "Everything was cold\n",
      "[0.00966284]\n",
      "\n",
      "\n",
      "[812 227 864 100 775   9 109   8 333 731  24  61   4 171  59  77   0   0\n",
      "   0   0   0   0   0   0   0   0   0   0   0   0   0   0   0   0   0   0\n",
      "   0   0   0   0   0   0   0   0   0   0   0   0   0   0]\n",
      "Everything was hot exactly as I wanted\n",
      "[0.9845289]\n",
      "\n",
      "\n",
      "[812 227 864 100 775   9 157 359 853   0   0   0   0   0   0   0   0   0\n",
      "   0   0   0   0   0   0   0   0   0   0   0   0   0   0   0   0   0   0\n",
      "   0   0   0   0   0   0   0   0   0   0   0   0   0   0]\n",
      "Everything was green\n",
      "[0.01563141]\n",
      "\n",
      "\n",
      "[  1 109 228 540 237 635 241 423 340  89 298   0   0   0   0   0   0   0\n",
      "   0   0   0   0   0   0   0   0   0   0   0   0   0   0   0   0   0   0\n",
      "   0   0   0   0   0   0   0   0   0   0   0   0   0   0]\n",
      "the host seated us immediately\n",
      "[0.9998034]\n",
      "\n",
      "\n",
      "[154 242  47 635 341  12 569 547 147 319 775 125  85   0   0   0   0   0\n",
      "   0   0   0   0   0   0   0   0   0   0   0   0   0   0   0   0   0   0\n",
      "   0   0   0   0   0   0   0   0   0   0   0   0   0   0]\n",
      "they gave us free chocolate cake\n",
      "[0.9996475]\n",
      "\n",
      "\n",
      "[158 190 853 782   8 607 775 210 232 146 775 470  67 305 101  15   1 328\n",
      " 296  26  19   1 661 641 195   0   0   0   0   0   0   0   0   0   0   0\n",
      "   0   0   0   0   0   0   0   0   0   0   0   0   0   0]\n",
      "we couldn't hear each other talk because of the shouting in the kitchen\n",
      "[0.00390947]\n",
      "\n",
      "\n"
     ]
    }
   ],
   "source": [
    "model_bidi_LSTM = tf.keras.Sequential([\n",
    "    tf.keras.layers.Embedding(vocab_size,\n",
    "                             embedding_dim,\n",
    "                             input_length=max_length),\n",
    "    tf.keras.layers.Bidirectional(tf.keras.layers.LSTM(embedding_dim)),\n",
    "    tf.keras.layers.Dense(6, activation='relu'),\n",
    "    tf.keras.layers.Dense(1, activation='sigmoid')\n",
    "])\n",
    "\n",
    "fit_model_and_show_results(model_bidi_LSTM, fake_reviews)"
   ]
  },
  {
   "cell_type": "markdown",
   "metadata": {},
   "source": [
    "## Try TWO bidirectional LSTM layers"
   ]
  },
  {
   "cell_type": "code",
   "execution_count": 40,
   "metadata": {},
   "outputs": [
    {
     "name": "stdout",
     "output_type": "stream",
     "text": [
      "Model: \"sequential_5\"\n",
      "_________________________________________________________________\n",
      "Layer (type)                 Output Shape              Param #   \n",
      "=================================================================\n",
      "embedding_5 (Embedding)      (None, 50, 16)            16000     \n",
      "_________________________________________________________________\n",
      "bidirectional_4 (Bidirection (None, 50, 32)            4224      \n",
      "_________________________________________________________________\n",
      "bidirectional_5 (Bidirection (None, 32)                6272      \n",
      "_________________________________________________________________\n",
      "dense_10 (Dense)             (None, 6)                 198       \n",
      "_________________________________________________________________\n",
      "dense_11 (Dense)             (None, 1)                 7         \n",
      "=================================================================\n",
      "Total params: 26,701\n",
      "Trainable params: 26,701\n",
      "Non-trainable params: 0\n",
      "_________________________________________________________________\n",
      "Epoch 1/30\n",
      "50/50 [==============================] - 4s 77ms/step - loss: 0.6916 - accuracy: 0.5223 - val_loss: 0.6953 - val_accuracy: 0.4311\n",
      "Epoch 2/30\n",
      "50/50 [==============================] - 2s 49ms/step - loss: 0.6598 - accuracy: 0.5876 - val_loss: 0.6578 - val_accuracy: 0.6065\n",
      "Epoch 3/30\n",
      "50/50 [==============================] - 2s 48ms/step - loss: 0.4567 - accuracy: 0.7997 - val_loss: 0.4911 - val_accuracy: 0.7669\n",
      "Epoch 4/30\n",
      "50/50 [==============================] - 2s 48ms/step - loss: 0.3161 - accuracy: 0.8732 - val_loss: 0.5144 - val_accuracy: 0.7769\n",
      "Epoch 5/30\n",
      "50/50 [==============================] - 2s 46ms/step - loss: 0.2345 - accuracy: 0.9146 - val_loss: 0.5903 - val_accuracy: 0.7744\n",
      "Epoch 6/30\n",
      "50/50 [==============================] - 2s 48ms/step - loss: 0.1926 - accuracy: 0.9322 - val_loss: 0.5338 - val_accuracy: 0.7494\n",
      "Epoch 7/30\n",
      "50/50 [==============================] - 2s 46ms/step - loss: 0.1539 - accuracy: 0.9573 - val_loss: 0.8424 - val_accuracy: 0.7368\n",
      "Epoch 8/30\n",
      "50/50 [==============================] - 2s 48ms/step - loss: 0.1376 - accuracy: 0.9529 - val_loss: 0.7041 - val_accuracy: 0.7619\n",
      "Epoch 9/30\n",
      "50/50 [==============================] - 2s 47ms/step - loss: 0.1020 - accuracy: 0.9743 - val_loss: 0.9387 - val_accuracy: 0.7494\n",
      "Epoch 10/30\n",
      "50/50 [==============================] - 2s 46ms/step - loss: 0.1018 - accuracy: 0.9724 - val_loss: 0.9580 - val_accuracy: 0.7318\n",
      "Epoch 11/30\n",
      "50/50 [==============================] - 2s 48ms/step - loss: 0.0858 - accuracy: 0.9805 - val_loss: 0.9915 - val_accuracy: 0.7494\n",
      "Epoch 12/30\n",
      "50/50 [==============================] - 2s 47ms/step - loss: 0.0804 - accuracy: 0.9793 - val_loss: 0.8582 - val_accuracy: 0.7669\n",
      "Epoch 13/30\n",
      "50/50 [==============================] - 2s 48ms/step - loss: 0.0891 - accuracy: 0.9768 - val_loss: 0.9016 - val_accuracy: 0.7569\n",
      "Epoch 14/30\n",
      "50/50 [==============================] - 2s 46ms/step - loss: 0.0684 - accuracy: 0.9837 - val_loss: 1.1233 - val_accuracy: 0.7444\n",
      "Epoch 15/30\n",
      "50/50 [==============================] - 2s 46ms/step - loss: 0.0640 - accuracy: 0.9856 - val_loss: 1.2590 - val_accuracy: 0.7318\n",
      "Epoch 16/30\n",
      "50/50 [==============================] - 2s 48ms/step - loss: 0.0550 - accuracy: 0.9862 - val_loss: 1.1183 - val_accuracy: 0.7469\n",
      "Epoch 17/30\n",
      "50/50 [==============================] - 2s 45ms/step - loss: 0.0614 - accuracy: 0.9856 - val_loss: 1.3055 - val_accuracy: 0.7393\n",
      "Epoch 18/30\n",
      "50/50 [==============================] - 2s 47ms/step - loss: 0.0946 - accuracy: 0.9755 - val_loss: 1.1961 - val_accuracy: 0.7343\n",
      "Epoch 19/30\n",
      "50/50 [==============================] - 2s 45ms/step - loss: 0.0672 - accuracy: 0.9837 - val_loss: 1.1396 - val_accuracy: 0.7469\n",
      "Epoch 20/30\n",
      "50/50 [==============================] - 2s 45ms/step - loss: 0.0556 - accuracy: 0.9862 - val_loss: 1.2175 - val_accuracy: 0.7444\n",
      "Epoch 21/30\n",
      "50/50 [==============================] - 2s 45ms/step - loss: 0.0533 - accuracy: 0.9893 - val_loss: 1.1699 - val_accuracy: 0.7519\n",
      "Epoch 22/30\n",
      "50/50 [==============================] - 2s 44ms/step - loss: 0.0445 - accuracy: 0.9912 - val_loss: 1.3168 - val_accuracy: 0.7393\n",
      "Epoch 23/30\n",
      "50/50 [==============================] - 2s 46ms/step - loss: 0.0432 - accuracy: 0.9912 - val_loss: 1.3114 - val_accuracy: 0.7444\n",
      "Epoch 24/30\n",
      "50/50 [==============================] - 2s 45ms/step - loss: 0.0424 - accuracy: 0.9912 - val_loss: 1.3460 - val_accuracy: 0.7419\n",
      "Epoch 25/30\n",
      "50/50 [==============================] - 2s 45ms/step - loss: 0.0410 - accuracy: 0.9912 - val_loss: 1.4012 - val_accuracy: 0.7368\n",
      "Epoch 26/30\n",
      "50/50 [==============================] - 2s 45ms/step - loss: 0.0754 - accuracy: 0.9812 - val_loss: 1.1315 - val_accuracy: 0.7494\n",
      "Epoch 27/30\n",
      "50/50 [==============================] - 2s 44ms/step - loss: 0.0705 - accuracy: 0.9805 - val_loss: 1.0525 - val_accuracy: 0.7544\n",
      "Epoch 28/30\n",
      "50/50 [==============================] - 2s 46ms/step - loss: 0.0520 - accuracy: 0.9856 - val_loss: 1.2421 - val_accuracy: 0.7494\n",
      "Epoch 29/30\n",
      "50/50 [==============================] - 2s 44ms/step - loss: 0.0530 - accuracy: 0.9868 - val_loss: 1.0705 - val_accuracy: 0.7444\n",
      "Epoch 30/30\n",
      "50/50 [==============================] - 2s 44ms/step - loss: 0.0548 - accuracy: 0.9849 - val_loss: 1.1760 - val_accuracy: 0.7569\n"
     ]
    },
    {
     "data": {
      "image/png": "[encoded data removed]",
      "text/plain": [
       "<Figure size 432x288 with 1 Axes>"
      ]
     },
     "metadata": {
      "needs_background": "light"
     },
     "output_type": "display_data"
    },
    {
     "data": {
      "image/png": "[encoded data removed]",
      "text/plain": [
       "<Figure size 432x288 with 1 Axes>"
      ]
     },
     "metadata": {
      "needs_background": "light"
     },
     "output_type": "display_data"
    },
    {
     "name": "stdout",
     "output_type": "stream",
     "text": [
      "[  4 281  16  25   0   0   0   0   0   0   0   0   0   0   0   0   0   0\n",
      "   0   0   0   0   0   0   0   0   0   0   0   0   0   0   0   0   0   0\n",
      "   0   0   0   0   0   0   0   0   0   0   0   0   0   0]\n",
      "I love this phone\n",
      "[0.9996613]\n",
      "\n",
      "\n",
      "[812 227 864 100 775   9 525 843   0   0   0   0   0   0   0   0   0   0\n",
      "   0   0   0   0   0   0   0   0   0   0   0   0   0   0   0   0   0   0\n",
      "   0   0   0   0   0   0   0   0   0   0   0   0   0   0]\n",
      "Everything was cold\n",
      "[0.0131363]\n",
      "\n",
      "\n",
      "[812 227 864 100 775   9 109   8 333 731  24  61   4 171  59  77   0   0\n",
      "   0   0   0   0   0   0   0   0   0   0   0   0   0   0   0   0   0   0\n",
      "   0   0   0   0   0   0   0   0   0   0   0   0   0   0]\n",
      "Everything was hot exactly as I wanted\n",
      "[0.98130786]\n",
      "\n",
      "\n",
      "[812 227 864 100 775   9 157 359 853   0   0   0   0   0   0   0   0   0\n",
      "   0   0   0   0   0   0   0   0   0   0   0   0   0   0   0   0   0   0\n",
      "   0   0   0   0   0   0   0   0   0   0   0   0   0   0]\n",
      "Everything was green\n",
      "[0.01770741]\n",
      "\n",
      "\n",
      "[  1 109 228 540 237 635 241 423 340  89 298   0   0   0   0   0   0   0\n",
      "   0   0   0   0   0   0   0   0   0   0   0   0   0   0   0   0   0   0\n",
      "   0   0   0   0   0   0   0   0   0   0   0   0   0   0]\n",
      "the host seated us immediately\n",
      "[0.71081054]\n",
      "\n",
      "\n",
      "[154 242  47 635 341  12 569 547 147 319 775 125  85   0   0   0   0   0\n",
      "   0   0   0   0   0   0   0   0   0   0   0   0   0   0   0   0   0   0\n",
      "   0   0   0   0   0   0   0   0   0   0   0   0   0   0]\n",
      "they gave us free chocolate cake\n",
      "[0.99956465]\n",
      "\n",
      "\n",
      "[158 190 853 782   8 607 775 210 232 146 775 470  67 305 101  15   1 328\n",
      " 296  26  19   1 661 641 195   0   0   0   0   0   0   0   0   0   0   0\n",
      "   0   0   0   0   0   0   0   0   0   0   0   0   0   0]\n",
      "we couldn't hear each other talk because of the shouting in the kitchen\n",
      "[0.01669103]\n",
      "\n",
      "\n"
     ]
    }
   ],
   "source": [
    "model_double_LSTM = tf.keras.Sequential([\n",
    "    tf.keras.layers.Embedding(vocab_size,\n",
    "                             embedding_dim,\n",
    "                             input_length=max_length),\n",
    "    tf.keras.layers.Bidirectional(tf.keras.layers.LSTM(embedding_dim, return_sequences=True)),\n",
    "    tf.keras.layers.Bidirectional(tf.keras.layers.LSTM(embedding_dim)),\n",
    "    tf.keras.layers.Dense(6, activation='relu'),\n",
    "    tf.keras.layers.Dense(1, activation='sigmoid')\n",
    "])\n",
    "\n",
    "fit_model_and_show_results(model_double_LSTM, fake_reviews)"
   ]
  },
  {
   "cell_type": "code",
   "execution_count": null,
   "metadata": {},
   "outputs": [],
   "source": []
  }
 ],
 "metadata": {
  "kernelspec": {
   "display_name": "Python 3",
   "language": "python",
   "name": "python3"
  },
  "language_info": {
   "codemirror_mode": {
    "name": "ipython",
    "version": 3
   },
   "file_extension": ".py",
   "mimetype": "text/x-python",
   "name": "python",
   "nbconvert_exporter": "python",
   "pygments_lexer": "ipython3",
   "version": "3.6.8"
  }
 },
 "nbformat": 4,
 "nbformat_minor": 4
}
