{
 "cells": [
  {
   "cell_type": "markdown",
   "metadata": {},
   "source": [
    "# This notebook goes with Lesson 10, Section 7 of the Tensorflow 2.0 course on Udacity. It uses Bidirectional LSTM layers for sentiment analysis. "
   ]
  },
  {
   "cell_type": "code",
   "execution_count": 3,
   "metadata": {},
   "outputs": [],
   "source": [
    "import tensorflow as tf\n",
    "import numpy as np\n",
    "import tensorflow_datasets as tfds"
   ]
  },
  {
   "cell_type": "code",
   "execution_count": 4,
   "metadata": {},
   "outputs": [
    {
     "name": "stdout",
     "output_type": "stream",
     "text": [
      "\u001b[1mDownloading and preparing dataset glue/sst2/1.0.0 (download: 7.09 MiB, generated: Unknown size, total: 7.09 MiB) to /root/tensorflow_datasets/glue/sst2/1.0.0...\u001b[0m\n"
     ]
    },
    {
     "data": {
      "application/vnd.jupyter.widget-view+json": {
       "model_id": "3b4c7c48af7a4e50a9b1f22b0c796ec9",
       "version_major": 2,
       "version_minor": 0
      },
      "text/plain": [
       "HBox(children=(FloatProgress(value=1.0, bar_style='info', description='Dl Completed...', layout=Layout(width='…"
      ]
     },
     "metadata": {},
     "output_type": "display_data"
    },
    {
     "data": {
      "application/vnd.jupyter.widget-view+json": {
       "model_id": "872fec364c754b8981b2f6ea2a986474",
       "version_major": 2,
       "version_minor": 0
      },
      "text/plain": [
       "HBox(children=(FloatProgress(value=1.0, bar_style='info', description='Dl Size...', layout=Layout(width='20px'…"
      ]
     },
     "metadata": {},
     "output_type": "display_data"
    },
    {
     "data": {
      "application/vnd.jupyter.widget-view+json": {
       "model_id": "4d26900a6ca340488f27aadee69bd895",
       "version_major": 2,
       "version_minor": 0
      },
      "text/plain": [
       "HBox(children=(FloatProgress(value=1.0, bar_style='info', description='Extraction completed...', layout=Layout…"
      ]
     },
     "metadata": {},
     "output_type": "display_data"
    },
    {
     "name": "stdout",
     "output_type": "stream",
     "text": [
      "\n",
      "\n",
      "\n",
      "\n",
      "\n",
      "\n"
     ]
    },
    {
     "data": {
      "application/vnd.jupyter.widget-view+json": {
       "model_id": "96f1a1beff2e459a998b0a6959314045",
       "version_major": 2,
       "version_minor": 0
      },
      "text/plain": [
       "HBox(children=(FloatProgress(value=0.0, max=3.0), HTML(value='')))"
      ]
     },
     "metadata": {},
     "output_type": "display_data"
    },
    {
     "data": {
      "application/vnd.jupyter.widget-view+json": {
       "model_id": "0295d9194f834273956b053078704e55",
       "version_major": 2,
       "version_minor": 0
      },
      "text/plain": [
       "HBox(children=(FloatProgress(value=0.0, max=67349.0), HTML(value='')))"
      ]
     },
     "metadata": {},
     "output_type": "display_data"
    },
    {
     "name": "stdout",
     "output_type": "stream",
     "text": [
      "Shuffling and writing examples to /root/tensorflow_datasets/glue/sst2/1.0.0.incompleteYVKON2/glue-train.tfrecord\n"
     ]
    },
    {
     "data": {
      "application/vnd.jupyter.widget-view+json": {
       "model_id": "c516d87e440f403e88ad89ad6ce4fffa",
       "version_major": 2,
       "version_minor": 0
      },
      "text/plain": [
       "HBox(children=(FloatProgress(value=0.0, max=67349.0), HTML(value='')))"
      ]
     },
     "metadata": {},
     "output_type": "display_data"
    },
    {
     "data": {
      "application/vnd.jupyter.widget-view+json": {
       "model_id": "87974b6c902d4a8daadc0953b8891067",
       "version_major": 2,
       "version_minor": 0
      },
      "text/plain": [
       "HBox(children=(FloatProgress(value=0.0, max=872.0), HTML(value='')))"
      ]
     },
     "metadata": {},
     "output_type": "display_data"
    },
    {
     "name": "stdout",
     "output_type": "stream",
     "text": [
      "Shuffling and writing examples to /root/tensorflow_datasets/glue/sst2/1.0.0.incompleteYVKON2/glue-validation.tfrecord\n"
     ]
    },
    {
     "data": {
      "application/vnd.jupyter.widget-view+json": {
       "model_id": "a20ab7feb5b24af9ab36835c719fee08",
       "version_major": 2,
       "version_minor": 0
      },
      "text/plain": [
       "HBox(children=(FloatProgress(value=0.0, max=872.0), HTML(value='')))"
      ]
     },
     "metadata": {},
     "output_type": "display_data"
    },
    {
     "data": {
      "application/vnd.jupyter.widget-view+json": {
       "model_id": "50dded26673a4371b5af1933c3111ee3",
       "version_major": 2,
       "version_minor": 0
      },
      "text/plain": [
       "HBox(children=(FloatProgress(value=0.0, max=1821.0), HTML(value='')))"
      ]
     },
     "metadata": {},
     "output_type": "display_data"
    },
    {
     "name": "stdout",
     "output_type": "stream",
     "text": [
      "Shuffling and writing examples to /root/tensorflow_datasets/glue/sst2/1.0.0.incompleteYVKON2/glue-test.tfrecord\n"
     ]
    },
    {
     "data": {
      "application/vnd.jupyter.widget-view+json": {
       "model_id": "5f5b207e95e64d7299a022568fb3039d",
       "version_major": 2,
       "version_minor": 0
      },
      "text/plain": [
       "HBox(children=(FloatProgress(value=0.0, max=1821.0), HTML(value='')))"
      ]
     },
     "metadata": {},
     "output_type": "display_data"
    },
    {
     "name": "stdout",
     "output_type": "stream",
     "text": [
      "\u001b[1mDataset glue downloaded and prepared to /root/tensorflow_datasets/glue/sst2/1.0.0. Subsequent calls will reuse this data.\u001b[0m\n",
      "FeaturesDict({\n",
      "    'idx': tf.int32,\n",
      "    'label': ClassLabel(shape=(), dtype=tf.int64, num_classes=2),\n",
      "    'sentence': Text(shape=(), dtype=tf.string),\n",
      "})\n",
      "2\n",
      "['negative', 'positive']\n"
     ]
    }
   ],
   "source": [
    "dataset, info = tfds.load('glue/sst2', with_info=True)\n",
    "print(info.features)\n",
    "print(info.features['label'].num_classes)\n",
    "print(info.features['label'].names)"
   ]
  },
  {
   "cell_type": "code",
   "execution_count": 5,
   "metadata": {},
   "outputs": [
    {
     "data": {
      "text/plain": [
       "<PrefetchDataset shapes: {idx: (), label: (), sentence: ()}, types: {idx: tf.int32, label: tf.int64, sentence: tf.string}>"
      ]
     },
     "execution_count": 5,
     "metadata": {},
     "output_type": "execute_result"
    }
   ],
   "source": [
    "dataset_train, dataset_validation = dataset['train'], dataset['validation']\n",
    "dataset_train"
   ]
  },
  {
   "cell_type": "code",
   "execution_count": 6,
   "metadata": {},
   "outputs": [
    {
     "name": "stdout",
     "output_type": "stream",
     "text": [
      "Review:  tf.Tensor(b'for the uninitiated plays better on video with the sound ', shape=(), dtype=string)\n",
      "Label: 0 \n",
      "\n",
      "Review:  tf.Tensor(b'like a giant commercial for universal studios , where much of the action takes place ', shape=(), dtype=string)\n",
      "Label: 0 \n",
      "\n"
     ]
    }
   ],
   "source": [
    "for example in dataset_train.take(2):\n",
    "    review, label = example['sentence'], example['label']\n",
    "    print(\"Review: \", review)\n",
    "    print(\"Label: %d \\n\" % label.numpy())"
   ]
  },
  {
   "cell_type": "code",
   "execution_count": 10,
   "metadata": {},
   "outputs": [
    {
     "name": "stdout",
     "output_type": "stream",
     "text": [
      "\n",
      "Number of training reviews is:  10000\n",
      "b'for the uninitiated plays better on video with the sound '\n",
      "0\n",
      "b'like a giant commercial for universal studios , where much of the action takes place '\n",
      "0\n",
      "b'a valueless kiddie paean to pro basketball underwritten by the nba . '\n",
      "0\n",
      "b\"featuring a dangerously seductive performance from the great daniel auteuil , `` sade '' covers the same period as kaufmann 's `` quills '' with more unsettlingly realistic results . \"\n",
      "1\n"
     ]
    }
   ],
   "source": [
    "training_reviews = []\n",
    "training_labels = []\n",
    "\n",
    "validation_reviews = []\n",
    "validation_labels = []\n",
    "\n",
    "for item in dataset_train.take(10000):\n",
    "    review, label = item['sentence'], item['label']\n",
    "    training_reviews.append(str(review.numpy()))\n",
    "    training_labels.append(label.numpy())\n",
    "    \n",
    "print('\\nNumber of training reviews is: ', len(training_reviews))\n",
    "\n",
    "for i in range(0, 2):\n",
    "    print(training_reviews[i]),\n",
    "    print(training_labels[i])\n",
    "\n",
    "for item in dataset_validation.take(-1):\n",
    "    review, label = item['sentence'], item['label']\n",
    "    validation_reviews.append(str(review.numpy()))\n",
    "    validation_labels.append(label.numpy())\n",
    "    \n",
    "for i in range(0, 2):\n",
    "    print(validation_reviews[i])\n",
    "    print(validation_labels[i])\n",
    "        "
   ]
  },
  {
   "cell_type": "markdown",
   "metadata": {},
   "source": [
    "## Tokenize and Sequence"
   ]
  },
  {
   "cell_type": "code",
   "execution_count": 11,
   "metadata": {},
   "outputs": [],
   "source": [
    "vocab_size = 4000\n",
    "embedding_dim = 16\n",
    "max_length = 50\n",
    "trunc_type = 'post'\n",
    "padding_type = 'post'\n",
    "oov_tok = '<OOV>'\n",
    "\n",
    "from tensorflow.keras.preprocessing.text import Tokenizer\n",
    "from tensorflow.keras.preprocessing.sequence import pad_sequences\n",
    "\n",
    "tokenizer = Tokenizer(num_words = vocab_size, oov_token=oov_tok)\n",
    "tokenizer.fit_on_texts(training_reviews)\n",
    "word_index = tokenizer.word_index"
   ]
  },
  {
   "cell_type": "code",
   "execution_count": 12,
   "metadata": {},
   "outputs": [],
   "source": [
    "training_sequences = tokenizer.texts_to_sequences(training_reviews)\n",
    "training_padded = pad_sequences(training_sequences,\n",
    "                               maxlen = max_length,\n",
    "                               padding=padding_type,\n",
    "                               truncating=trunc_type)\n",
    "\n",
    "validation_sequences = tokenizer.texts_to_sequences(validation_reviews)\n",
    "validation_padded = pad_sequences(validation_sequences,\n",
    "                                 maxlen = max_length,\n",
    "                                 padding=padding_type,\n",
    "                                 truncating=trunc_type)\n",
    "\n",
    "training_labels_final = np.array(training_labels)\n",
    "validation_labels_final = np.array(validation_labels)"
   ]
  },
  {
   "cell_type": "markdown",
   "metadata": {},
   "source": [
    "## Create model using Embedding"
   ]
  },
  {
   "cell_type": "code",
   "execution_count": 14,
   "metadata": {},
   "outputs": [
    {
     "name": "stdout",
     "output_type": "stream",
     "text": [
      "Model: \"sequential\"\n",
      "_________________________________________________________________\n",
      "Layer (type)                 Output Shape              Param #   \n",
      "=================================================================\n",
      "embedding (Embedding)        (None, 50, 16)            64000     \n",
      "_________________________________________________________________\n",
      "global_average_pooling1d (Gl (None, 16)                0         \n",
      "_________________________________________________________________\n",
      "dense (Dense)                (None, 1)                 17        \n",
      "=================================================================\n",
      "Total params: 64,017\n",
      "Trainable params: 64,017\n",
      "Non-trainable params: 0\n",
      "_________________________________________________________________\n"
     ]
    }
   ],
   "source": [
    "model = tf.keras.Sequential([\n",
    "    tf.keras.layers.Embedding(vocab_size,\n",
    "                             embedding_dim,\n",
    "                             input_length=max_length),\n",
    "    tf.keras.layers.GlobalAveragePooling1D(),\n",
    "    tf.keras.layers.Dense(1, activation='relu')\n",
    "])\n",
    "model.compile(optimizer='adam',\n",
    "             loss=tf.keras.losses.BinaryCrossentropy(),\n",
    "             metrics=['accuracy'])\n",
    "model.summary()"
   ]
  },
  {
   "cell_type": "code",
   "execution_count": 15,
   "metadata": {},
   "outputs": [
    {
     "name": "stdout",
     "output_type": "stream",
     "text": [
      "Epoch 1/20\n",
      "313/313 [==============================] - 1s 3ms/step - loss: 0.8132 - accuracy: 0.4955 - val_loss: 0.6828 - val_accuracy: 0.5562\n",
      "Epoch 2/20\n",
      "313/313 [==============================] - 1s 2ms/step - loss: 0.6584 - accuracy: 0.6155 - val_loss: 0.6591 - val_accuracy: 0.6181\n",
      "Epoch 3/20\n",
      "313/313 [==============================] - 1s 2ms/step - loss: 0.6342 - accuracy: 0.6548 - val_loss: 0.6297 - val_accuracy: 0.6628\n",
      "Epoch 4/20\n",
      "313/313 [==============================] - 1s 2ms/step - loss: 0.6029 - accuracy: 0.6890 - val_loss: 0.5932 - val_accuracy: 0.6972\n",
      "Epoch 5/20\n",
      "313/313 [==============================] - 1s 2ms/step - loss: 0.5624 - accuracy: 0.7289 - val_loss: 0.5659 - val_accuracy: 0.7225\n",
      "Epoch 6/20\n",
      "313/313 [==============================] - 1s 2ms/step - loss: 0.5163 - accuracy: 0.7611 - val_loss: 0.5453 - val_accuracy: 0.7362\n",
      "Epoch 7/20\n",
      "313/313 [==============================] - 1s 2ms/step - loss: 0.4701 - accuracy: 0.7890 - val_loss: 0.5375 - val_accuracy: 0.7615\n",
      "Epoch 8/20\n",
      "313/313 [==============================] - 1s 2ms/step - loss: 0.4327 - accuracy: 0.8098 - val_loss: 0.5658 - val_accuracy: 0.7683\n",
      "Epoch 9/20\n",
      "313/313 [==============================] - 1s 2ms/step - loss: 0.4005 - accuracy: 0.8233 - val_loss: 0.6245 - val_accuracy: 0.7489\n",
      "Epoch 10/20\n",
      "313/313 [==============================] - 1s 2ms/step - loss: 0.3735 - accuracy: 0.8359 - val_loss: 0.6926 - val_accuracy: 0.7477\n",
      "Epoch 11/20\n",
      "313/313 [==============================] - 1s 2ms/step - loss: 0.3528 - accuracy: 0.8435 - val_loss: 0.7570 - val_accuracy: 0.7729\n",
      "Epoch 12/20\n",
      "313/313 [==============================] - 1s 2ms/step - loss: 0.3347 - accuracy: 0.8506 - val_loss: 0.7960 - val_accuracy: 0.7741\n",
      "Epoch 13/20\n",
      "313/313 [==============================] - 1s 2ms/step - loss: 0.3190 - accuracy: 0.8534 - val_loss: 0.8856 - val_accuracy: 0.7615\n",
      "Epoch 14/20\n",
      "313/313 [==============================] - 1s 2ms/step - loss: 0.3131 - accuracy: 0.8574 - val_loss: 0.8975 - val_accuracy: 0.7649\n",
      "Epoch 15/20\n",
      "313/313 [==============================] - 1s 2ms/step - loss: 0.2923 - accuracy: 0.8654 - val_loss: 0.9205 - val_accuracy: 0.7603\n",
      "Epoch 16/20\n",
      "313/313 [==============================] - 1s 2ms/step - loss: 0.2839 - accuracy: 0.8682 - val_loss: 0.9877 - val_accuracy: 0.7695\n",
      "Epoch 17/20\n",
      "313/313 [==============================] - 1s 2ms/step - loss: 0.2759 - accuracy: 0.8699 - val_loss: 1.0067 - val_accuracy: 0.7695\n",
      "Epoch 18/20\n",
      "313/313 [==============================] - 1s 2ms/step - loss: 0.2696 - accuracy: 0.8729 - val_loss: 1.0601 - val_accuracy: 0.7683\n",
      "Epoch 19/20\n",
      "313/313 [==============================] - 1s 2ms/step - loss: 0.2630 - accuracy: 0.8753 - val_loss: 1.1178 - val_accuracy: 0.7672\n",
      "Epoch 20/20\n",
      "313/313 [==============================] - 1s 2ms/step - loss: 0.2566 - accuracy: 0.8790 - val_loss: 1.1486 - val_accuracy: 0.7661\n"
     ]
    }
   ],
   "source": [
    "num_epochs = 20\n",
    "history = model.fit(training_padded, training_labels_final, epochs=num_epochs,\n",
    "                   validation_data = (validation_padded, validation_labels_final))"
   ]
  },
  {
   "cell_type": "code",
   "execution_count": 16,
   "metadata": {},
   "outputs": [
    {
     "data": {
      "image/png": "[encoded data removed]",
      "text/plain": [
       "<Figure size 432x288 with 1 Axes>"
      ]
     },
     "metadata": {
      "needs_background": "light"
     },
     "output_type": "display_data"
    },
    {
     "data": {
      "image/png": "[encoded data removed]",
      "text/plain": [
       "<Figure size 432x288 with 1 Axes>"
      ]
     },
     "metadata": {
      "needs_background": "light"
     },
     "output_type": "display_data"
    }
   ],
   "source": [
    "import matplotlib.pyplot as plt\n",
    "\n",
    "def plot_graphs(history, string):\n",
    "    plt.plot(history.history[string])\n",
    "    plt.plot(history.history['val_'+string])\n",
    "    plt.xlabel('Epochs')\n",
    "    plt.ylabel(string)\n",
    "    plt.legend([string, 'val_'+string])\n",
    "    plt.show()\n",
    "    \n",
    "plot_graphs(history, 'accuracy')\n",
    "plot_graphs(history, 'loss')"
   ]
  },
  {
   "cell_type": "code",
   "execution_count": 18,
   "metadata": {},
   "outputs": [],
   "source": [
    "def predict_review(model, reviews):\n",
    "    padding_type = 'post'\n",
    "    trunc_type = 'post'\n",
    "    sample_sequences = tokenizer.texts_to_sequences(reviews)\n",
    "    reviews_padded = pad_sequences(sample_sequences, padding=padding_type,\n",
    "                                  maxlen=max_length)\n",
    "    classes = model.predict(reviews_padded)\n",
    "    for x in range(len(reviews_padded)):\n",
    "        print(reviews[x])\n",
    "        print(classes[x])\n",
    "        print('\\n')\n",
    "    "
   ]
  },
  {
   "cell_type": "code",
   "execution_count": 19,
   "metadata": {},
   "outputs": [
    {
     "name": "stdout",
     "output_type": "stream",
     "text": [
      "I loved this movie\n",
      "[0.49704635]\n",
      "\n",
      "\n",
      "that was the worst movie I've ever seen\n",
      "[0.02082119]\n",
      "\n",
      "\n",
      "too much violence even for a Bond film\n",
      "[0.]\n",
      "\n",
      "\n",
      "a captivating recounting of a cherished myth\n",
      "[0.6585384]\n",
      "\n",
      "\n"
     ]
    }
   ],
   "source": [
    "review1 = \"\"\"I loved this movie\"\"\"\n",
    "\n",
    "review2 = \"\"\"that was the worst movie I've ever seen\"\"\"\n",
    "\n",
    "review3 = \"\"\"too much violence even for a Bond film\"\"\"\n",
    "\n",
    "review4 = \"\"\"a captivating recounting of a cherished myth\"\"\"\n",
    "\n",
    "new_reviews = [review1, review2, review3, review4]\n",
    "\n",
    "predict_review(model, new_reviews)"
   ]
  },
  {
   "cell_type": "markdown",
   "metadata": {},
   "source": [
    "## Streamlining Function"
   ]
  },
  {
   "cell_type": "code",
   "execution_count": 20,
   "metadata": {},
   "outputs": [],
   "source": [
    "def fit_model_and_show_results(model, reviews):\n",
    "    model.summary()\n",
    "    history = model.fit(training_padded, training_labels_final, epochs=num_epochs,\n",
    "                       validation_data = (validation_padded, validation_labels_final))\n",
    "    plot_graphs(history, 'accuracy')\n",
    "    plot_graphs(history, 'loss')\n",
    "    predict_review(model, reviews)"
   ]
  },
  {
   "cell_type": "code",
   "execution_count": 24,
   "metadata": {},
   "outputs": [
    {
     "name": "stdout",
     "output_type": "stream",
     "text": [
      "Model: \"sequential_3\"\n",
      "_________________________________________________________________\n",
      "Layer (type)                 Output Shape              Param #   \n",
      "=================================================================\n",
      "embedding_3 (Embedding)      (None, 50, 16)            64000     \n",
      "_________________________________________________________________\n",
      "conv1d_2 (Conv1D)            (None, 46, 16)            1296      \n",
      "_________________________________________________________________\n",
      "global_max_pooling1d_2 (Glob (None, 16)                0         \n",
      "_________________________________________________________________\n",
      "dense_3 (Dense)              (None, 1)                 17        \n",
      "=================================================================\n",
      "Total params: 65,313\n",
      "Trainable params: 65,313\n",
      "Non-trainable params: 0\n",
      "_________________________________________________________________\n",
      "Epoch 1/30\n",
      "313/313 [==============================] - 1s 3ms/step - loss: 0.6639 - accuracy: 0.5949 - val_loss: 0.6095 - val_accuracy: 0.7259\n",
      "Epoch 2/30\n",
      "313/313 [==============================] - 1s 3ms/step - loss: 0.4665 - accuracy: 0.7838 - val_loss: 0.4993 - val_accuracy: 0.7649\n",
      "Epoch 3/30\n",
      "313/313 [==============================] - 1s 3ms/step - loss: 0.3152 - accuracy: 0.8581 - val_loss: 0.5203 - val_accuracy: 0.7798\n",
      "Epoch 4/30\n",
      "313/313 [==============================] - 1s 3ms/step - loss: 0.2430 - accuracy: 0.8915 - val_loss: 0.5792 - val_accuracy: 0.7661\n",
      "Epoch 5/30\n",
      "313/313 [==============================] - 1s 3ms/step - loss: 0.1990 - accuracy: 0.9070 - val_loss: 0.6396 - val_accuracy: 0.7649\n",
      "Epoch 6/30\n",
      "313/313 [==============================] - 1s 3ms/step - loss: 0.1680 - accuracy: 0.9222 - val_loss: 0.7041 - val_accuracy: 0.7557\n",
      "Epoch 7/30\n",
      "313/313 [==============================] - 1s 3ms/step - loss: 0.1463 - accuracy: 0.9293 - val_loss: 0.7400 - val_accuracy: 0.7580\n",
      "Epoch 8/30\n",
      "313/313 [==============================] - 1s 3ms/step - loss: 0.1273 - accuracy: 0.9372 - val_loss: 0.8101 - val_accuracy: 0.7672\n",
      "Epoch 9/30\n",
      "313/313 [==============================] - 1s 3ms/step - loss: 0.1155 - accuracy: 0.9422 - val_loss: 0.8569 - val_accuracy: 0.7557\n",
      "Epoch 10/30\n",
      "313/313 [==============================] - 1s 3ms/step - loss: 0.1055 - accuracy: 0.9464 - val_loss: 0.9033 - val_accuracy: 0.7569\n",
      "Epoch 11/30\n",
      "313/313 [==============================] - 1s 3ms/step - loss: 0.0981 - accuracy: 0.9494 - val_loss: 0.9509 - val_accuracy: 0.7580\n",
      "Epoch 12/30\n",
      "313/313 [==============================] - 1s 3ms/step - loss: 0.0910 - accuracy: 0.9506 - val_loss: 1.0201 - val_accuracy: 0.7546\n",
      "Epoch 13/30\n",
      "313/313 [==============================] - 1s 3ms/step - loss: 0.0867 - accuracy: 0.9512 - val_loss: 1.0425 - val_accuracy: 0.7500\n",
      "Epoch 14/30\n",
      "313/313 [==============================] - 1s 3ms/step - loss: 0.0829 - accuracy: 0.9542 - val_loss: 1.0979 - val_accuracy: 0.7534\n",
      "Epoch 15/30\n",
      "313/313 [==============================] - 1s 3ms/step - loss: 0.0799 - accuracy: 0.9519 - val_loss: 1.1193 - val_accuracy: 0.7511\n",
      "Epoch 16/30\n",
      "313/313 [==============================] - 1s 3ms/step - loss: 0.0780 - accuracy: 0.9535 - val_loss: 1.1568 - val_accuracy: 0.7477\n",
      "Epoch 17/30\n",
      "313/313 [==============================] - 1s 3ms/step - loss: 0.0758 - accuracy: 0.9536 - val_loss: 1.2161 - val_accuracy: 0.7557\n",
      "Epoch 18/30\n",
      "313/313 [==============================] - 1s 3ms/step - loss: 0.0745 - accuracy: 0.9554 - val_loss: 1.2259 - val_accuracy: 0.7489\n",
      "Epoch 19/30\n",
      "313/313 [==============================] - 1s 3ms/step - loss: 0.0725 - accuracy: 0.9564 - val_loss: 1.2576 - val_accuracy: 0.7443\n",
      "Epoch 20/30\n",
      "313/313 [==============================] - 1s 3ms/step - loss: 0.0721 - accuracy: 0.9542 - val_loss: 1.2799 - val_accuracy: 0.7557\n",
      "Epoch 21/30\n",
      "313/313 [==============================] - 1s 3ms/step - loss: 0.0699 - accuracy: 0.9565 - val_loss: 1.3211 - val_accuracy: 0.7511\n",
      "Epoch 22/30\n",
      "313/313 [==============================] - 1s 3ms/step - loss: 0.0703 - accuracy: 0.9563 - val_loss: 1.3477 - val_accuracy: 0.7511\n",
      "Epoch 23/30\n",
      "313/313 [==============================] - 1s 3ms/step - loss: 0.0674 - accuracy: 0.9586 - val_loss: 1.3411 - val_accuracy: 0.7546\n",
      "Epoch 24/30\n",
      "313/313 [==============================] - 1s 3ms/step - loss: 0.0675 - accuracy: 0.9567 - val_loss: 1.3987 - val_accuracy: 0.7500\n",
      "Epoch 25/30\n",
      "313/313 [==============================] - 1s 3ms/step - loss: 0.0672 - accuracy: 0.9564 - val_loss: 1.4030 - val_accuracy: 0.7603\n",
      "Epoch 26/30\n",
      "313/313 [==============================] - 1s 3ms/step - loss: 0.0664 - accuracy: 0.9571 - val_loss: 1.4252 - val_accuracy: 0.7546\n",
      "Epoch 27/30\n",
      "313/313 [==============================] - 1s 3ms/step - loss: 0.0659 - accuracy: 0.9573 - val_loss: 1.4599 - val_accuracy: 0.7580\n",
      "Epoch 28/30\n",
      "313/313 [==============================] - 1s 3ms/step - loss: 0.0650 - accuracy: 0.9584 - val_loss: 1.4590 - val_accuracy: 0.7477\n",
      "Epoch 29/30\n",
      "313/313 [==============================] - 1s 3ms/step - loss: 0.0653 - accuracy: 0.9579 - val_loss: 1.4934 - val_accuracy: 0.7592\n",
      "Epoch 30/30\n",
      "313/313 [==============================] - 1s 3ms/step - loss: 0.0645 - accuracy: 0.9571 - val_loss: 1.5209 - val_accuracy: 0.7546\n"
     ]
    },
    {
     "data": {
      "image/png": "[encoded data removed]",
      "text/plain": [
       "<Figure size 432x288 with 1 Axes>"
      ]
     },
     "metadata": {
      "needs_background": "light"
     },
     "output_type": "display_data"
    },
    {
     "data": {
      "image/png": "[encoded data removed]",
      "text/plain": [
       "<Figure size 432x288 with 1 Axes>"
      ]
     },
     "metadata": {
      "needs_background": "light"
     },
     "output_type": "display_data"
    },
    {
     "name": "stdout",
     "output_type": "stream",
     "text": [
      "I loved this movie\n",
      "[0.9999989]\n",
      "\n",
      "\n",
      "that was the worst movie I've ever seen\n",
      "[3.232885e-06]\n",
      "\n",
      "\n",
      "too much violence even for a Bond film\n",
      "[1.0325915e-12]\n",
      "\n",
      "\n",
      "a captivating recounting of a cherished myth\n",
      "[0.9995721]\n",
      "\n",
      "\n"
     ]
    }
   ],
   "source": [
    "# CNN\n",
    "num_epochs = 30\n",
    "model_cnn = tf.keras.Sequential([\n",
    "    tf.keras.layers.Embedding(vocab_size,\n",
    "                             embedding_dim,\n",
    "                             input_length = max_length),\n",
    "    tf.keras.layers.Conv1D(16, 5, activation='relu'),\n",
    "    tf.keras.layers.GlobalMaxPooling1D(),\n",
    "    tf.keras.layers.Dense(1, activation='sigmoid')\n",
    "])\n",
    "\n",
    "learning_rate = 0.0001\n",
    "model_cnn.compile(optimizer = 'adam',\n",
    "                 loss=tf.keras.losses.BinaryCrossentropy(),\n",
    "                 metrics=['accuracy'])\n",
    "\n",
    "fit_model_and_show_results(model_cnn, new_reviews)"
   ]
  },
  {
   "cell_type": "code",
   "execution_count": 25,
   "metadata": {},
   "outputs": [
    {
     "name": "stdout",
     "output_type": "stream",
     "text": [
      "Model: \"sequential_4\"\n",
      "_________________________________________________________________\n",
      "Layer (type)                 Output Shape              Param #   \n",
      "=================================================================\n",
      "embedding_4 (Embedding)      (None, 50, 16)            64000     \n",
      "_________________________________________________________________\n",
      "bidirectional (Bidirectional (None, 64)                9600      \n",
      "_________________________________________________________________\n",
      "dense_4 (Dense)              (None, 1)                 65        \n",
      "=================================================================\n",
      "Total params: 73,665\n",
      "Trainable params: 73,665\n",
      "Non-trainable params: 0\n",
      "_________________________________________________________________\n",
      "Epoch 1/30\n",
      "313/313 [==============================] - 10s 33ms/step - loss: 0.6012 - accuracy: 0.6533 - val_loss: 0.5517 - val_accuracy: 0.7213\n",
      "Epoch 2/30\n",
      "313/313 [==============================] - 10s 31ms/step - loss: 0.3834 - accuracy: 0.8194 - val_loss: 0.5331 - val_accuracy: 0.7443\n",
      "Epoch 3/30\n",
      "313/313 [==============================] - 9s 30ms/step - loss: 0.3022 - accuracy: 0.8590 - val_loss: 0.5877 - val_accuracy: 0.7477\n",
      "Epoch 4/30\n",
      "313/313 [==============================] - 10s 32ms/step - loss: 0.2664 - accuracy: 0.8739 - val_loss: 0.7148 - val_accuracy: 0.7305\n",
      "Epoch 5/30\n",
      "313/313 [==============================] - 10s 31ms/step - loss: 0.2344 - accuracy: 0.8874 - val_loss: 0.7835 - val_accuracy: 0.7271\n",
      "Epoch 6/30\n",
      "313/313 [==============================] - 9s 29ms/step - loss: 0.2157 - accuracy: 0.8984 - val_loss: 0.7471 - val_accuracy: 0.7271\n",
      "Epoch 7/30\n",
      "313/313 [==============================] - 9s 28ms/step - loss: 0.2007 - accuracy: 0.9041 - val_loss: 0.8999 - val_accuracy: 0.7271\n",
      "Epoch 8/30\n",
      "313/313 [==============================] - 9s 28ms/step - loss: 0.1835 - accuracy: 0.9126 - val_loss: 0.9120 - val_accuracy: 0.7087\n",
      "Epoch 9/30\n",
      "313/313 [==============================] - 11s 36ms/step - loss: 0.1733 - accuracy: 0.9157 - val_loss: 1.0881 - val_accuracy: 0.7317\n",
      "Epoch 10/30\n",
      "313/313 [==============================] - 11s 36ms/step - loss: 0.1609 - accuracy: 0.9243 - val_loss: 1.0852 - val_accuracy: 0.7167\n",
      "Epoch 11/30\n",
      "313/313 [==============================] - 11s 35ms/step - loss: 0.1465 - accuracy: 0.9282 - val_loss: 1.2843 - val_accuracy: 0.7179\n",
      "Epoch 12/30\n",
      "313/313 [==============================] - 9s 30ms/step - loss: 0.1410 - accuracy: 0.9294 - val_loss: 1.2865 - val_accuracy: 0.7213\n",
      "Epoch 13/30\n",
      "313/313 [==============================] - 11s 37ms/step - loss: 0.1412 - accuracy: 0.9297 - val_loss: 1.3281 - val_accuracy: 0.7190\n",
      "Epoch 14/30\n",
      "313/313 [==============================] - 11s 36ms/step - loss: 0.1333 - accuracy: 0.9322 - val_loss: 1.3751 - val_accuracy: 0.7294\n",
      "Epoch 15/30\n",
      "313/313 [==============================] - 12s 38ms/step - loss: 0.1263 - accuracy: 0.9342 - val_loss: 1.2615 - val_accuracy: 0.7202\n",
      "Epoch 16/30\n",
      "313/313 [==============================] - 10s 32ms/step - loss: 0.1214 - accuracy: 0.9353 - val_loss: 1.3890 - val_accuracy: 0.7144\n",
      "Epoch 17/30\n",
      "313/313 [==============================] - 12s 39ms/step - loss: 0.1161 - accuracy: 0.9368 - val_loss: 1.5008 - val_accuracy: 0.7213\n",
      "Epoch 18/30\n",
      "313/313 [==============================] - 11s 34ms/step - loss: 0.1117 - accuracy: 0.9390 - val_loss: 1.4815 - val_accuracy: 0.7271\n",
      "Epoch 19/30\n",
      "313/313 [==============================] - 10s 33ms/step - loss: 0.1103 - accuracy: 0.9396 - val_loss: 1.4341 - val_accuracy: 0.7271\n",
      "Epoch 20/30\n",
      "313/313 [==============================] - 10s 31ms/step - loss: 0.1093 - accuracy: 0.9404 - val_loss: 1.5242 - val_accuracy: 0.7110\n",
      "Epoch 21/30\n",
      "313/313 [==============================] - 10s 32ms/step - loss: 0.1074 - accuracy: 0.9427 - val_loss: 1.6278 - val_accuracy: 0.7144\n",
      "Epoch 22/30\n",
      "313/313 [==============================] - 8s 27ms/step - loss: 0.1007 - accuracy: 0.9482 - val_loss: 1.5368 - val_accuracy: 0.7248\n",
      "Epoch 23/30\n",
      "313/313 [==============================] - 8s 27ms/step - loss: 0.0965 - accuracy: 0.9479 - val_loss: 1.6447 - val_accuracy: 0.7099\n",
      "Epoch 24/30\n",
      "313/313 [==============================] - 8s 27ms/step - loss: 0.0961 - accuracy: 0.9460 - val_loss: 1.6028 - val_accuracy: 0.7179\n",
      "Epoch 25/30\n",
      "313/313 [==============================] - 9s 28ms/step - loss: 0.0977 - accuracy: 0.9460 - val_loss: 1.5792 - val_accuracy: 0.7248\n",
      "Epoch 26/30\n",
      "313/313 [==============================] - 8s 27ms/step - loss: 0.0934 - accuracy: 0.9455 - val_loss: 1.8490 - val_accuracy: 0.7202\n",
      "Epoch 27/30\n",
      "313/313 [==============================] - 8s 27ms/step - loss: 0.0950 - accuracy: 0.9463 - val_loss: 1.7471 - val_accuracy: 0.7122\n",
      "Epoch 28/30\n",
      "313/313 [==============================] - 8s 27ms/step - loss: 0.0937 - accuracy: 0.9459 - val_loss: 1.6915 - val_accuracy: 0.7259\n",
      "Epoch 29/30\n",
      "313/313 [==============================] - 8s 27ms/step - loss: 0.0946 - accuracy: 0.9461 - val_loss: 1.8183 - val_accuracy: 0.7110\n",
      "Epoch 30/30\n",
      "313/313 [==============================] - 8s 27ms/step - loss: 0.0864 - accuracy: 0.9520 - val_loss: 1.9128 - val_accuracy: 0.7179\n"
     ]
    },
    {
     "data": {
      "image/png": "[encoded data removed]",
      "text/plain": [
       "<Figure size 432x288 with 1 Axes>"
      ]
     },
     "metadata": {
      "needs_background": "light"
     },
     "output_type": "display_data"
    },
    {
     "data": {
      "image/png": "[encoded data removed]",
      "text/plain": [
       "<Figure size 432x288 with 1 Axes>"
      ]
     },
     "metadata": {
      "needs_background": "light"
     },
     "output_type": "display_data"
    },
    {
     "name": "stdout",
     "output_type": "stream",
     "text": [
      "I loved this movie\n",
      "[0.99881786]\n",
      "\n",
      "\n",
      "that was the worst movie I've ever seen\n",
      "[0.00524023]\n",
      "\n",
      "\n",
      "too much violence even for a Bond film\n",
      "[2.3949786e-05]\n",
      "\n",
      "\n",
      "a captivating recounting of a cherished myth\n",
      "[0.99993885]\n",
      "\n",
      "\n"
     ]
    }
   ],
   "source": [
    "# GRU\n",
    "num_epochs = 30\n",
    "\n",
    "model_GRU = tf.keras.Sequential([\n",
    "    tf.keras.layers.Embedding(vocab_size,\n",
    "                             embedding_dim,\n",
    "                             input_length = max_length),\n",
    "    tf.keras.layers.Bidirectional(tf.keras.layers.GRU(32)),\n",
    "    tf.keras.layers.Dense(1, activation='sigmoid')\n",
    "])\n",
    "\n",
    "learning_rate = 0.0003\n",
    "model_GRU.compile(optimizer = 'adam',\n",
    "                 loss = 'binary_crossentropy',\n",
    "                 metrics=['accuracy'])\n",
    "\n",
    "fit_model_and_show_results(model_GRU, new_reviews)"
   ]
  },
  {
   "cell_type": "code",
   "execution_count": 26,
   "metadata": {},
   "outputs": [
    {
     "name": "stdout",
     "output_type": "stream",
     "text": [
      "Model: \"sequential_5\"\n",
      "_________________________________________________________________\n",
      "Layer (type)                 Output Shape              Param #   \n",
      "=================================================================\n",
      "embedding_5 (Embedding)      (None, 50, 16)            64000     \n",
      "_________________________________________________________________\n",
      "bidirectional_1 (Bidirection (None, 32)                4224      \n",
      "_________________________________________________________________\n",
      "dense_5 (Dense)              (None, 1)                 33        \n",
      "=================================================================\n",
      "Total params: 68,257\n",
      "Trainable params: 68,257\n",
      "Non-trainable params: 0\n",
      "_________________________________________________________________\n",
      "Epoch 1/30\n",
      "313/313 [==============================] - 8s 27ms/step - loss: 0.6238 - accuracy: 0.6352 - val_loss: 0.5514 - val_accuracy: 0.7259\n",
      "Epoch 2/30\n",
      "313/313 [==============================] - 7s 23ms/step - loss: 0.4156 - accuracy: 0.8065 - val_loss: 0.5216 - val_accuracy: 0.7695\n",
      "Epoch 3/30\n",
      "313/313 [==============================] - 7s 23ms/step - loss: 0.3193 - accuracy: 0.8534 - val_loss: 0.5727 - val_accuracy: 0.7523\n",
      "Epoch 4/30\n",
      "313/313 [==============================] - 7s 24ms/step - loss: 0.2723 - accuracy: 0.8755 - val_loss: 0.6668 - val_accuracy: 0.7477\n",
      "Epoch 5/30\n",
      "313/313 [==============================] - 7s 23ms/step - loss: 0.2490 - accuracy: 0.8856 - val_loss: 0.6757 - val_accuracy: 0.7443\n",
      "Epoch 6/30\n",
      "313/313 [==============================] - 7s 23ms/step - loss: 0.2272 - accuracy: 0.8940 - val_loss: 0.7917 - val_accuracy: 0.7397\n",
      "Epoch 7/30\n",
      "313/313 [==============================] - 7s 23ms/step - loss: 0.2120 - accuracy: 0.9027 - val_loss: 0.7950 - val_accuracy: 0.7511\n",
      "Epoch 8/30\n",
      "313/313 [==============================] - 7s 24ms/step - loss: 0.2026 - accuracy: 0.9059 - val_loss: 0.8361 - val_accuracy: 0.7454\n",
      "Epoch 9/30\n",
      "313/313 [==============================] - 8s 25ms/step - loss: 0.1879 - accuracy: 0.9151 - val_loss: 0.9468 - val_accuracy: 0.7397\n",
      "Epoch 10/30\n",
      "313/313 [==============================] - 8s 25ms/step - loss: 0.1813 - accuracy: 0.9167 - val_loss: 0.9164 - val_accuracy: 0.7397\n",
      "Epoch 11/30\n",
      "313/313 [==============================] - 8s 24ms/step - loss: 0.1691 - accuracy: 0.9180 - val_loss: 1.0342 - val_accuracy: 0.7225\n",
      "Epoch 12/30\n",
      "313/313 [==============================] - 7s 24ms/step - loss: 0.1720 - accuracy: 0.9174 - val_loss: 0.9793 - val_accuracy: 0.7420\n",
      "Epoch 13/30\n",
      "313/313 [==============================] - 7s 24ms/step - loss: 0.1567 - accuracy: 0.9206 - val_loss: 1.0024 - val_accuracy: 0.7294\n",
      "Epoch 14/30\n",
      "313/313 [==============================] - 8s 24ms/step - loss: 0.1480 - accuracy: 0.9253 - val_loss: 1.1514 - val_accuracy: 0.7362\n",
      "Epoch 15/30\n",
      "313/313 [==============================] - 7s 23ms/step - loss: 0.1418 - accuracy: 0.9274 - val_loss: 1.2128 - val_accuracy: 0.7282\n",
      "Epoch 16/30\n",
      "313/313 [==============================] - 7s 23ms/step - loss: 0.1397 - accuracy: 0.9285 - val_loss: 1.3579 - val_accuracy: 0.7408\n",
      "Epoch 17/30\n",
      "313/313 [==============================] - 8s 24ms/step - loss: 0.1388 - accuracy: 0.9276 - val_loss: 1.1501 - val_accuracy: 0.7190\n",
      "Epoch 18/30\n",
      "313/313 [==============================] - 7s 24ms/step - loss: 0.1299 - accuracy: 0.9302 - val_loss: 1.3871 - val_accuracy: 0.7420\n",
      "Epoch 19/30\n",
      "313/313 [==============================] - 7s 24ms/step - loss: 0.1233 - accuracy: 0.9331 - val_loss: 1.3767 - val_accuracy: 0.7351\n",
      "Epoch 20/30\n",
      "313/313 [==============================] - 7s 23ms/step - loss: 0.1279 - accuracy: 0.9304 - val_loss: 1.4319 - val_accuracy: 0.7385\n",
      "Epoch 21/30\n",
      "313/313 [==============================] - 7s 24ms/step - loss: 0.1192 - accuracy: 0.9340 - val_loss: 1.4506 - val_accuracy: 0.7328\n",
      "Epoch 22/30\n",
      "313/313 [==============================] - 7s 24ms/step - loss: 0.1174 - accuracy: 0.9370 - val_loss: 1.5221 - val_accuracy: 0.7259\n",
      "Epoch 23/30\n",
      "313/313 [==============================] - 7s 24ms/step - loss: 0.1110 - accuracy: 0.9374 - val_loss: 1.6457 - val_accuracy: 0.7374\n",
      "Epoch 24/30\n",
      "313/313 [==============================] - 7s 24ms/step - loss: 0.1072 - accuracy: 0.9400 - val_loss: 1.7073 - val_accuracy: 0.7282\n",
      "Epoch 25/30\n",
      "313/313 [==============================] - 7s 23ms/step - loss: 0.1038 - accuracy: 0.9402 - val_loss: 1.7865 - val_accuracy: 0.7236\n",
      "Epoch 26/30\n",
      "313/313 [==============================] - 7s 23ms/step - loss: 0.1028 - accuracy: 0.9411 - val_loss: 1.8044 - val_accuracy: 0.7294\n",
      "Epoch 27/30\n",
      "313/313 [==============================] - 7s 24ms/step - loss: 0.0981 - accuracy: 0.9446 - val_loss: 1.9022 - val_accuracy: 0.7259\n",
      "Epoch 28/30\n",
      "313/313 [==============================] - 7s 23ms/step - loss: 0.1070 - accuracy: 0.9396 - val_loss: 1.6214 - val_accuracy: 0.7328\n",
      "Epoch 29/30\n",
      "313/313 [==============================] - 7s 23ms/step - loss: 0.1075 - accuracy: 0.9414 - val_loss: 1.3941 - val_accuracy: 0.7190\n",
      "Epoch 30/30\n",
      "313/313 [==============================] - 7s 23ms/step - loss: 0.1102 - accuracy: 0.9402 - val_loss: 1.4738 - val_accuracy: 0.7236\n"
     ]
    },
    {
     "data": {
      "image/png": "[encoded data removed]",
      "text/plain": [
       "<Figure size 432x288 with 1 Axes>"
      ]
     },
     "metadata": {
      "needs_background": "light"
     },
     "output_type": "display_data"
    },
    {
     "data": {
      "image/png": "[encoded data removed]",
      "text/plain": [
       "<Figure size 432x288 with 1 Axes>"
      ]
     },
     "metadata": {
      "needs_background": "light"
     },
     "output_type": "display_data"
    },
    {
     "name": "stdout",
     "output_type": "stream",
     "text": [
      "I loved this movie\n",
      "[0.84484446]\n",
      "\n",
      "\n",
      "that was the worst movie I've ever seen\n",
      "[0.08334109]\n",
      "\n",
      "\n",
      "too much violence even for a Bond film\n",
      "[0.00075114]\n",
      "\n",
      "\n",
      "a captivating recounting of a cherished myth\n",
      "[0.9972917]\n",
      "\n",
      "\n"
     ]
    }
   ],
   "source": [
    "# Single Bidirectional LSTM\n",
    "num_epochs = 30\n",
    "\n",
    "model_LSTM = tf.keras.Sequential([\n",
    "    tf.keras.layers.Embedding(vocab_size,\n",
    "                             embedding_dim,\n",
    "                             input_length=max_length),\n",
    "    tf.keras.layers.Bidirectional(tf.keras.layers.LSTM(embedding_dim)),\n",
    "    tf.keras.layers.Dense(1, activation='sigmoid')\n",
    "])\n",
    "learning_rate = 0.0003\n",
    "model_LSTM.compile(optimizer = 'adam',\n",
    "                  loss = 'binary_crossentropy',\n",
    "                  metrics=['accuracy'])\n",
    "\n",
    "fit_model_and_show_results(model_LSTM, new_reviews)"
   ]
  },
  {
   "cell_type": "code",
   "execution_count": 28,
   "metadata": {},
   "outputs": [
    {
     "name": "stdout",
     "output_type": "stream",
     "text": [
      "Model: \"sequential_7\"\n",
      "_________________________________________________________________\n",
      "Layer (type)                 Output Shape              Param #   \n",
      "=================================================================\n",
      "embedding_7 (Embedding)      (None, 50, 16)            64000     \n",
      "_________________________________________________________________\n",
      "bidirectional_4 (Bidirection (None, 50, 32)            4224      \n",
      "_________________________________________________________________\n",
      "bidirectional_5 (Bidirection (None, 32)                6272      \n",
      "_________________________________________________________________\n",
      "dense_7 (Dense)              (None, 1)                 33        \n",
      "=================================================================\n",
      "Total params: 74,529\n",
      "Trainable params: 74,529\n",
      "Non-trainable params: 0\n",
      "_________________________________________________________________\n",
      "Epoch 1/30\n",
      "313/313 [==============================] - 17s 54ms/step - loss: 0.5977 - accuracy: 0.6605 - val_loss: 0.5313 - val_accuracy: 0.7362\n",
      "Epoch 2/30\n",
      "313/313 [==============================] - 15s 49ms/step - loss: 0.3744 - accuracy: 0.8239 - val_loss: 0.5721 - val_accuracy: 0.7420\n",
      "Epoch 3/30\n",
      "313/313 [==============================] - 15s 48ms/step - loss: 0.3059 - accuracy: 0.8638 - val_loss: 0.6021 - val_accuracy: 0.7489\n",
      "Epoch 4/30\n",
      "313/313 [==============================] - 15s 46ms/step - loss: 0.2640 - accuracy: 0.8822 - val_loss: 0.6452 - val_accuracy: 0.7362\n",
      "Epoch 5/30\n",
      "313/313 [==============================] - 14s 46ms/step - loss: 0.2459 - accuracy: 0.8896 - val_loss: 0.7471 - val_accuracy: 0.7431\n",
      "Epoch 6/30\n",
      "313/313 [==============================] - 15s 49ms/step - loss: 0.2220 - accuracy: 0.9032 - val_loss: 0.7486 - val_accuracy: 0.7317\n",
      "Epoch 7/30\n",
      "313/313 [==============================] - 16s 50ms/step - loss: 0.2081 - accuracy: 0.9051 - val_loss: 0.7911 - val_accuracy: 0.7317\n",
      "Epoch 8/30\n",
      "313/313 [==============================] - 16s 50ms/step - loss: 0.2006 - accuracy: 0.9069 - val_loss: 0.8096 - val_accuracy: 0.7122\n",
      "Epoch 9/30\n",
      "313/313 [==============================] - 16s 51ms/step - loss: 0.1901 - accuracy: 0.9164 - val_loss: 0.8906 - val_accuracy: 0.7248\n",
      "Epoch 10/30\n",
      "313/313 [==============================] - 16s 51ms/step - loss: 0.1775 - accuracy: 0.9170 - val_loss: 0.9747 - val_accuracy: 0.7351\n",
      "Epoch 11/30\n",
      "313/313 [==============================] - 15s 49ms/step - loss: 0.1649 - accuracy: 0.9237 - val_loss: 1.0332 - val_accuracy: 0.7328\n",
      "Epoch 12/30\n",
      "313/313 [==============================] - 18s 58ms/step - loss: 0.1565 - accuracy: 0.9234 - val_loss: 0.9845 - val_accuracy: 0.7259\n",
      "Epoch 13/30\n",
      "313/313 [==============================] - 16s 52ms/step - loss: 0.1513 - accuracy: 0.9281 - val_loss: 1.1309 - val_accuracy: 0.7248\n",
      "Epoch 14/30\n",
      "313/313 [==============================] - 20s 64ms/step - loss: 0.1488 - accuracy: 0.9301 - val_loss: 1.0828 - val_accuracy: 0.7213\n",
      "Epoch 15/30\n",
      "313/313 [==============================] - 21s 66ms/step - loss: 0.1461 - accuracy: 0.9282 - val_loss: 1.0310 - val_accuracy: 0.7259\n",
      "Epoch 16/30\n",
      "313/313 [==============================] - 19s 62ms/step - loss: 0.1434 - accuracy: 0.9306 - val_loss: 1.2561 - val_accuracy: 0.7190\n",
      "Epoch 17/30\n",
      "313/313 [==============================] - 18s 57ms/step - loss: 0.1336 - accuracy: 0.9338 - val_loss: 1.2846 - val_accuracy: 0.7202\n",
      "Epoch 18/30\n",
      "313/313 [==============================] - 16s 50ms/step - loss: 0.1402 - accuracy: 0.9304 - val_loss: 1.1910 - val_accuracy: 0.6995\n",
      "Epoch 19/30\n",
      "313/313 [==============================] - 16s 50ms/step - loss: 0.1382 - accuracy: 0.9302 - val_loss: 1.1806 - val_accuracy: 0.7259\n",
      "Epoch 20/30\n",
      "313/313 [==============================] - 17s 53ms/step - loss: 0.1287 - accuracy: 0.9352 - val_loss: 1.2988 - val_accuracy: 0.7053\n",
      "Epoch 21/30\n",
      "313/313 [==============================] - 17s 55ms/step - loss: 0.1278 - accuracy: 0.9342 - val_loss: 1.3621 - val_accuracy: 0.7076\n",
      "Epoch 22/30\n",
      "313/313 [==============================] - 19s 60ms/step - loss: 0.1177 - accuracy: 0.9393 - val_loss: 1.3496 - val_accuracy: 0.7099\n",
      "Epoch 23/30\n",
      "313/313 [==============================] - 22s 70ms/step - loss: 0.1241 - accuracy: 0.9368 - val_loss: 1.4145 - val_accuracy: 0.7099\n",
      "Epoch 24/30\n",
      "313/313 [==============================] - 22s 69ms/step - loss: 0.1163 - accuracy: 0.9382 - val_loss: 1.4076 - val_accuracy: 0.7064\n",
      "Epoch 25/30\n",
      "313/313 [==============================] - 20s 64ms/step - loss: 0.1080 - accuracy: 0.9397 - val_loss: 1.5337 - val_accuracy: 0.6984\n",
      "Epoch 26/30\n",
      "313/313 [==============================] - 21s 68ms/step - loss: 0.1055 - accuracy: 0.9435 - val_loss: 1.5945 - val_accuracy: 0.6995\n",
      "Epoch 27/30\n",
      "313/313 [==============================] - 21s 66ms/step - loss: 0.1064 - accuracy: 0.9423 - val_loss: 1.5638 - val_accuracy: 0.7018\n",
      "Epoch 28/30\n",
      "313/313 [==============================] - 19s 60ms/step - loss: 0.1065 - accuracy: 0.9418 - val_loss: 1.5133 - val_accuracy: 0.6904\n",
      "Epoch 29/30\n",
      "313/313 [==============================] - 16s 51ms/step - loss: 0.1012 - accuracy: 0.9427 - val_loss: 1.5815 - val_accuracy: 0.7122\n",
      "Epoch 30/30\n",
      "313/313 [==============================] - 15s 48ms/step - loss: 0.1031 - accuracy: 0.9422 - val_loss: 1.7140 - val_accuracy: 0.6961\n"
     ]
    },
    {
     "data": {
      "image/png": "[encoded data removed]",
      "text/plain": [
       "<Figure size 432x288 with 1 Axes>"
      ]
     },
     "metadata": {
      "needs_background": "light"
     },
     "output_type": "display_data"
    },
    {
     "data": {
      "image/png": "[encoded data removed]",
      "text/plain": [
       "<Figure size 432x288 with 1 Axes>"
      ]
     },
     "metadata": {
      "needs_background": "light"
     },
     "output_type": "display_data"
    },
    {
     "name": "stdout",
     "output_type": "stream",
     "text": [
      "WARNING:tensorflow:5 out of the last 6 calls to <function Model.make_predict_function.<locals>.predict_function at 0x7f8f60080b70> triggered tf.function retracing. Tracing is expensive and the excessive number of tracings could be due to (1) creating @tf.function repeatedly in a loop, (2) passing tensors with different shapes, (3) passing Python objects instead of tensors. For (1), please define your @tf.function outside of the loop. For (2), @tf.function has experimental_relax_shapes=True option that relaxes argument shapes that can avoid unnecessary retracing. For (3), please refer to https://www.tensorflow.org/tutorials/customization/performance#python_or_tensor_args and https://www.tensorflow.org/api_docs/python/tf/function for  more details.\n"
     ]
    },
    {
     "name": "stderr",
     "output_type": "stream",
     "text": [
      "WARNING:tensorflow:5 out of the last 6 calls to <function Model.make_predict_function.<locals>.predict_function at 0x7f8f60080b70> triggered tf.function retracing. Tracing is expensive and the excessive number of tracings could be due to (1) creating @tf.function repeatedly in a loop, (2) passing tensors with different shapes, (3) passing Python objects instead of tensors. For (1), please define your @tf.function outside of the loop. For (2), @tf.function has experimental_relax_shapes=True option that relaxes argument shapes that can avoid unnecessary retracing. For (3), please refer to https://www.tensorflow.org/tutorials/customization/performance#python_or_tensor_args and https://www.tensorflow.org/api_docs/python/tf/function for  more details.\n"
     ]
    },
    {
     "name": "stdout",
     "output_type": "stream",
     "text": [
      "I loved this movie\n",
      "[0.9949963]\n",
      "\n",
      "\n",
      "that was the worst movie I've ever seen\n",
      "[0.48979294]\n",
      "\n",
      "\n",
      "too much violence even for a Bond film\n",
      "[0.01290712]\n",
      "\n",
      "\n",
      "a captivating recounting of a cherished myth\n",
      "[0.99711454]\n",
      "\n",
      "\n"
     ]
    }
   ],
   "source": [
    "# Multiple Bidirectional LSTM\n",
    "num_epochs = 30\n",
    "\n",
    "model_double_LSTM = tf.keras.Sequential([\n",
    "    tf.keras.layers.Embedding(vocab_size,\n",
    "                             embedding_dim,\n",
    "                             input_length=max_length),\n",
    "    tf.keras.layers.Bidirectional(tf.keras.layers.LSTM(embedding_dim,\n",
    "                                                      return_sequences=True)),\n",
    "    tf.keras.layers.Bidirectional(tf.keras.layers.LSTM(embedding_dim)),\n",
    "    tf.keras.layers.Dense(1, activation='sigmoid')\n",
    "])\n",
    "learning_rate = 0.0003\n",
    "model_double_LSTM.compile(optimizer = 'adam',\n",
    "                  loss = 'binary_crossentropy',\n",
    "                  metrics=['accuracy'])\n",
    "\n",
    "fit_model_and_show_results(model_double_LSTM, new_reviews)"
   ]
  },
  {
   "cell_type": "code",
   "execution_count": null,
   "metadata": {},
   "outputs": [],
   "source": []
  }
 ],
 "metadata": {
  "kernelspec": {
   "display_name": "Python 3",
   "language": "python",
   "name": "python3"
  },
  "language_info": {
   "codemirror_mode": {
    "name": "ipython",
    "version": 3
   },
   "file_extension": ".py",
   "mimetype": "text/x-python",
   "name": "python",
   "nbconvert_exporter": "python",
   "pygments_lexer": "ipython3",
   "version": "3.6.8"
  }
 },
 "nbformat": 4,
 "nbformat_minor": 4
}
